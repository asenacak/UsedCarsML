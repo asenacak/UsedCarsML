{
 "cells": [
  {
   "cell_type": "markdown",
   "metadata": {},
   "source": [
    "# Preprocessing the Used Cars Dataset"
   ]
  },
  {
   "cell_type": "markdown",
   "metadata": {},
   "source": [
    "In this notebook, I first tackle missing values, rows with placeholder '--' characters, and mixed-type columns containing both numeric and textual data. These steps are crucial for cleaning the data and ensuring consistency. Next, I apply one-hot encoding to transform categorical variables into a format suitable for modeling. Finally, I perform feature scaling to standardize the range of the data before conducting feature selection to identify the most informative variables for use in the predictive models.\n",
    "\n",
    "Data Source: [US Used Cars dataset (3 million)](https://www.kaggle.com/datasets/ananaymital/us-used-cars-dataset)\n"
   ]
  },
  {
   "cell_type": "code",
   "execution_count": 1,
   "metadata": {},
   "outputs": [],
   "source": [
    "import pandas as pd\n",
    "import numpy as np\n",
    "from collections import Counter\n",
    "import ast\n",
    "from sklearn.preprocessing import StandardScaler\n",
    "from sklearn.feature_selection import SelectKBest, f_regression\n",
    "import matplotlib.pyplot as plt\n",
    "import seaborn as sns"
   ]
  },
  {
   "cell_type": "markdown",
   "metadata": {},
   "source": [
    "### Data Download"
   ]
  },
  {
   "cell_type": "markdown",
   "metadata": {},
   "source": [
    "The dataset is downloaded."
   ]
  },
  {
   "cell_type": "code",
   "execution_count": 2,
   "metadata": {},
   "outputs": [
    {
     "name": "stderr",
     "output_type": "stream",
     "text": [
      "/var/folders/4k/9sv3rzqs4qj4yhs2xt5y1n240000gn/T/ipykernel_29696/786415787.py:1: DtypeWarning: Columns (11) have mixed types. Specify dtype option on import or set low_memory=False.\n",
      "  data = pd.read_csv('used_cars_data.csv')\n"
     ]
    }
   ],
   "source": [
    "data = pd.read_csv('used_cars_data.csv')"
   ]
  },
  {
   "cell_type": "code",
   "execution_count": 3,
   "metadata": {},
   "outputs": [
    {
     "data": {
      "text/plain": [
       "(3000040, 66)"
      ]
     },
     "execution_count": 3,
     "metadata": {},
     "output_type": "execute_result"
    }
   ],
   "source": [
    "data.shape"
   ]
  },
  {
   "cell_type": "markdown",
   "metadata": {},
   "source": [
    "### Data Cleaning"
   ]
  },
  {
   "cell_type": "code",
   "execution_count": 3,
   "metadata": {},
   "outputs": [
    {
     "data": {
      "text/html": [
       "<div>\n",
       "<style scoped>\n",
       "    .dataframe tbody tr th:only-of-type {\n",
       "        vertical-align: middle;\n",
       "    }\n",
       "\n",
       "    .dataframe tbody tr th {\n",
       "        vertical-align: top;\n",
       "    }\n",
       "\n",
       "    .dataframe thead th {\n",
       "        text-align: right;\n",
       "    }\n",
       "</style>\n",
       "<table border=\"1\" class=\"dataframe\">\n",
       "  <thead>\n",
       "    <tr style=\"text-align: right;\">\n",
       "      <th></th>\n",
       "      <th>vin</th>\n",
       "      <th>back_legroom</th>\n",
       "      <th>bed</th>\n",
       "      <th>bed_height</th>\n",
       "      <th>bed_length</th>\n",
       "      <th>body_type</th>\n",
       "      <th>cabin</th>\n",
       "      <th>city</th>\n",
       "      <th>city_fuel_economy</th>\n",
       "      <th>combine_fuel_economy</th>\n",
       "      <th>...</th>\n",
       "      <th>transmission</th>\n",
       "      <th>transmission_display</th>\n",
       "      <th>trimId</th>\n",
       "      <th>trim_name</th>\n",
       "      <th>vehicle_damage_category</th>\n",
       "      <th>wheel_system</th>\n",
       "      <th>wheel_system_display</th>\n",
       "      <th>wheelbase</th>\n",
       "      <th>width</th>\n",
       "      <th>year</th>\n",
       "    </tr>\n",
       "  </thead>\n",
       "  <tbody>\n",
       "    <tr>\n",
       "      <th>0</th>\n",
       "      <td>ZACNJABB5KPJ92081</td>\n",
       "      <td>35.1 in</td>\n",
       "      <td>NaN</td>\n",
       "      <td>NaN</td>\n",
       "      <td>NaN</td>\n",
       "      <td>SUV / Crossover</td>\n",
       "      <td>NaN</td>\n",
       "      <td>Bayamon</td>\n",
       "      <td>NaN</td>\n",
       "      <td>NaN</td>\n",
       "      <td>...</td>\n",
       "      <td>A</td>\n",
       "      <td>9-Speed Automatic Overdrive</td>\n",
       "      <td>t83804</td>\n",
       "      <td>Latitude FWD</td>\n",
       "      <td>NaN</td>\n",
       "      <td>FWD</td>\n",
       "      <td>Front-Wheel Drive</td>\n",
       "      <td>101.2 in</td>\n",
       "      <td>79.6 in</td>\n",
       "      <td>2019</td>\n",
       "    </tr>\n",
       "    <tr>\n",
       "      <th>1</th>\n",
       "      <td>SALCJ2FX1LH858117</td>\n",
       "      <td>38.1 in</td>\n",
       "      <td>NaN</td>\n",
       "      <td>NaN</td>\n",
       "      <td>NaN</td>\n",
       "      <td>SUV / Crossover</td>\n",
       "      <td>NaN</td>\n",
       "      <td>San Juan</td>\n",
       "      <td>NaN</td>\n",
       "      <td>NaN</td>\n",
       "      <td>...</td>\n",
       "      <td>A</td>\n",
       "      <td>9-Speed Automatic Overdrive</td>\n",
       "      <td>t86759</td>\n",
       "      <td>S AWD</td>\n",
       "      <td>NaN</td>\n",
       "      <td>AWD</td>\n",
       "      <td>All-Wheel Drive</td>\n",
       "      <td>107.9 in</td>\n",
       "      <td>85.6 in</td>\n",
       "      <td>2020</td>\n",
       "    </tr>\n",
       "    <tr>\n",
       "      <th>2</th>\n",
       "      <td>JF1VA2M67G9829723</td>\n",
       "      <td>35.4 in</td>\n",
       "      <td>NaN</td>\n",
       "      <td>NaN</td>\n",
       "      <td>NaN</td>\n",
       "      <td>Sedan</td>\n",
       "      <td>NaN</td>\n",
       "      <td>Guaynabo</td>\n",
       "      <td>17.0</td>\n",
       "      <td>NaN</td>\n",
       "      <td>...</td>\n",
       "      <td>M</td>\n",
       "      <td>6-Speed Manual</td>\n",
       "      <td>t58994</td>\n",
       "      <td>Base</td>\n",
       "      <td>NaN</td>\n",
       "      <td>AWD</td>\n",
       "      <td>All-Wheel Drive</td>\n",
       "      <td>104.3 in</td>\n",
       "      <td>78.9 in</td>\n",
       "      <td>2016</td>\n",
       "    </tr>\n",
       "    <tr>\n",
       "      <th>3</th>\n",
       "      <td>SALRR2RV0L2433391</td>\n",
       "      <td>37.6 in</td>\n",
       "      <td>NaN</td>\n",
       "      <td>NaN</td>\n",
       "      <td>NaN</td>\n",
       "      <td>SUV / Crossover</td>\n",
       "      <td>NaN</td>\n",
       "      <td>San Juan</td>\n",
       "      <td>NaN</td>\n",
       "      <td>NaN</td>\n",
       "      <td>...</td>\n",
       "      <td>A</td>\n",
       "      <td>8-Speed Automatic Overdrive</td>\n",
       "      <td>t86074</td>\n",
       "      <td>V6 HSE AWD</td>\n",
       "      <td>NaN</td>\n",
       "      <td>AWD</td>\n",
       "      <td>All-Wheel Drive</td>\n",
       "      <td>115 in</td>\n",
       "      <td>87.4 in</td>\n",
       "      <td>2020</td>\n",
       "    </tr>\n",
       "    <tr>\n",
       "      <th>4</th>\n",
       "      <td>SALCJ2FXXLH862327</td>\n",
       "      <td>38.1 in</td>\n",
       "      <td>NaN</td>\n",
       "      <td>NaN</td>\n",
       "      <td>NaN</td>\n",
       "      <td>SUV / Crossover</td>\n",
       "      <td>NaN</td>\n",
       "      <td>San Juan</td>\n",
       "      <td>NaN</td>\n",
       "      <td>NaN</td>\n",
       "      <td>...</td>\n",
       "      <td>A</td>\n",
       "      <td>9-Speed Automatic Overdrive</td>\n",
       "      <td>t86759</td>\n",
       "      <td>S AWD</td>\n",
       "      <td>NaN</td>\n",
       "      <td>AWD</td>\n",
       "      <td>All-Wheel Drive</td>\n",
       "      <td>107.9 in</td>\n",
       "      <td>85.6 in</td>\n",
       "      <td>2020</td>\n",
       "    </tr>\n",
       "  </tbody>\n",
       "</table>\n",
       "<p>5 rows × 66 columns</p>\n",
       "</div>"
      ],
      "text/plain": [
       "                 vin back_legroom  bed bed_height bed_length        body_type  \\\n",
       "0  ZACNJABB5KPJ92081      35.1 in  NaN        NaN        NaN  SUV / Crossover   \n",
       "1  SALCJ2FX1LH858117      38.1 in  NaN        NaN        NaN  SUV / Crossover   \n",
       "2  JF1VA2M67G9829723      35.4 in  NaN        NaN        NaN            Sedan   \n",
       "3  SALRR2RV0L2433391      37.6 in  NaN        NaN        NaN  SUV / Crossover   \n",
       "4  SALCJ2FXXLH862327      38.1 in  NaN        NaN        NaN  SUV / Crossover   \n",
       "\n",
       "  cabin      city  city_fuel_economy  combine_fuel_economy  ...  transmission  \\\n",
       "0   NaN   Bayamon                NaN                   NaN  ...             A   \n",
       "1   NaN  San Juan                NaN                   NaN  ...             A   \n",
       "2   NaN  Guaynabo               17.0                   NaN  ...             M   \n",
       "3   NaN  San Juan                NaN                   NaN  ...             A   \n",
       "4   NaN  San Juan                NaN                   NaN  ...             A   \n",
       "\n",
       "          transmission_display  trimId     trim_name  vehicle_damage_category  \\\n",
       "0  9-Speed Automatic Overdrive  t83804  Latitude FWD                      NaN   \n",
       "1  9-Speed Automatic Overdrive  t86759         S AWD                      NaN   \n",
       "2               6-Speed Manual  t58994          Base                      NaN   \n",
       "3  8-Speed Automatic Overdrive  t86074    V6 HSE AWD                      NaN   \n",
       "4  9-Speed Automatic Overdrive  t86759         S AWD                      NaN   \n",
       "\n",
       "  wheel_system wheel_system_display wheelbase    width  year  \n",
       "0          FWD    Front-Wheel Drive  101.2 in  79.6 in  2019  \n",
       "1          AWD      All-Wheel Drive  107.9 in  85.6 in  2020  \n",
       "2          AWD      All-Wheel Drive  104.3 in  78.9 in  2016  \n",
       "3          AWD      All-Wheel Drive    115 in  87.4 in  2020  \n",
       "4          AWD      All-Wheel Drive  107.9 in  85.6 in  2020  \n",
       "\n",
       "[5 rows x 66 columns]"
      ]
     },
     "execution_count": 3,
     "metadata": {},
     "output_type": "execute_result"
    }
   ],
   "source": [
    "data.head()"
   ]
  },
  {
   "cell_type": "markdown",
   "metadata": {},
   "source": [
    "Some features have the occurrences of '--' and these occurrences are replaced with NaN values to standardize missing data representations."
   ]
  },
  {
   "cell_type": "code",
   "execution_count": 4,
   "metadata": {},
   "outputs": [],
   "source": [
    "df = data.replace('--', np.nan)"
   ]
  },
  {
   "cell_type": "markdown",
   "metadata": {},
   "source": [
    "The percentage of missing/null values for each feature are calculated. "
   ]
  },
  {
   "cell_type": "code",
   "execution_count": 5,
   "metadata": {},
   "outputs": [
    {
     "name": "stdout",
     "output_type": "stream",
     "text": [
      "bed_height                 100.000000\n",
      "vehicle_damage_category    100.000000\n",
      "combine_fuel_economy       100.000000\n",
      "is_certified               100.000000\n",
      "bed                         99.347742\n",
      "                              ...    \n",
      "franchise_dealer             0.000000\n",
      "dealer_zip                   0.000000\n",
      "daysonmarket                 0.000000\n",
      "city                         0.000000\n",
      "year                         0.000000\n",
      "Length: 66, dtype: float64\n"
     ]
    }
   ],
   "source": [
    "null_percentage = df.isnull().mean()*100\n",
    "null_percentage = null_percentage.sort_values(ascending=False)\n",
    "print(null_percentage)"
   ]
  },
  {
   "cell_type": "markdown",
   "metadata": {},
   "source": [
    "The number of unique values for each feature is calculated."
   ]
  },
  {
   "cell_type": "code",
   "execution_count": 6,
   "metadata": {},
   "outputs": [
    {
     "name": "stdout",
     "output_type": "stream",
     "text": [
      "                   Variable  Unique_Count\n",
      "0                       vin       3000000\n",
      "38               listing_id       3000000\n",
      "12              description       2519325\n",
      "40         main_picture_url       2415855\n",
      "41            major_options        279972\n",
      "..                      ...           ...\n",
      "33                is_oemcpo             1\n",
      "9      combine_fuel_economy             0\n",
      "60  vehicle_damage_category             0\n",
      "30             is_certified             0\n",
      "3                bed_height             0\n",
      "\n",
      "[66 rows x 2 columns]\n"
     ]
    }
   ],
   "source": [
    "unique_counts = {col: df[col].nunique() for col in df.columns}\n",
    "unique_counts_df = pd.DataFrame(list(unique_counts.items()), columns=['Variable', 'Unique_Count'])\n",
    "\n",
    "print(unique_counts_df.sort_values(by='Unique_Count', ascending=False))"
   ]
  },
  {
   "cell_type": "markdown",
   "metadata": {},
   "source": [
    "The columns/features that have more than 50% missing values and the highest numbers of unique values are removed."
   ]
  },
  {
   "cell_type": "code",
   "execution_count": 7,
   "metadata": {},
   "outputs": [],
   "source": [
    "df = df.drop(['vehicle_damage_category', 'combine_fuel_economy', 'is_certified', 'bed', 'bed_height', 'cabin',\n",
    "'bed_length', 'is_oemcpo', 'is_cpo', 'owner_count', 'description', 'vin', 'main_picture_url', 'listing_id'], axis=1)"
   ]
  },
  {
   "cell_type": "markdown",
   "metadata": {},
   "source": [
    "Since having accident(s) affects the price of cars, the missing values of 'has_accidents' are removed"
   ]
  },
  {
   "cell_type": "code",
   "execution_count": 8,
   "metadata": {},
   "outputs": [],
   "source": [
    "df = df.dropna(subset=['has_accidents'])"
   ]
  },
  {
   "cell_type": "markdown",
   "metadata": {},
   "source": [
    "After removing the features with the highest number of unique values, I proceed to eliminate duplicates from the dataset."
   ]
  },
  {
   "cell_type": "code",
   "execution_count": 9,
   "metadata": {},
   "outputs": [],
   "source": [
    "df = df.drop_duplicates()"
   ]
  },
  {
   "cell_type": "markdown",
   "metadata": {},
   "source": [
    "The percentage of missing values for each feature left are recalculated."
   ]
  },
  {
   "cell_type": "code",
   "execution_count": 10,
   "metadata": {},
   "outputs": [
    {
     "name": "stdout",
     "output_type": "stream",
     "text": [
      "franchise_make          36.167126\n",
      "city_fuel_economy       15.688048\n",
      "highway_fuel_economy    15.688048\n",
      "interior_color          15.494226\n",
      "torque                  12.812209\n",
      "power                   11.080536\n",
      "back_legroom             7.007289\n",
      "front_legroom            4.894270\n",
      "major_options            4.503127\n",
      "fuel_tank_volume         4.310196\n",
      "maximum_seating          4.262806\n",
      "width                    4.261788\n",
      "height                   4.260962\n",
      "length                   4.260262\n",
      "wheelbase                4.258735\n",
      "horsepower               4.056898\n",
      "engine_displacement      4.056898\n",
      "wheel_system             3.231359\n",
      "wheel_system_display     3.231359\n",
      "trim_name                2.824251\n",
      "trimId                   2.795244\n",
      "engine_cylinders         2.541183\n",
      "engine_type              2.541183\n",
      "exterior_color           2.241386\n",
      "fuel_type                2.069001\n",
      "seller_rating            1.749612\n",
      "transmission_display     1.697133\n",
      "transmission             1.697133\n",
      "mileage                  1.206313\n",
      "body_type                0.117934\n",
      "sp_id                    0.006107\n",
      "sp_name                  0.000000\n",
      "theft_title              0.000000\n",
      "savings_amount           0.000000\n",
      "salvage                  0.000000\n",
      "listed_date              0.000000\n",
      "price                    0.000000\n",
      "model_name               0.000000\n",
      "make_name                0.000000\n",
      "longitude                0.000000\n",
      "listing_color            0.000000\n",
      "latitude                 0.000000\n",
      "is_new                   0.000000\n",
      "isCab                    0.000000\n",
      "has_accidents            0.000000\n",
      "franchise_dealer         0.000000\n",
      "frame_damaged            0.000000\n",
      "fleet                    0.000000\n",
      "dealer_zip               0.000000\n",
      "daysonmarket             0.000000\n",
      "city                     0.000000\n",
      "year                     0.000000\n",
      "dtype: float64\n"
     ]
    }
   ],
   "source": [
    "new_percentage = df.isnull().mean()*100\n",
    "new_percentage = new_percentage.sort_values(ascending=False)\n",
    "print(new_percentage)"
   ]
  },
  {
   "cell_type": "markdown",
   "metadata": {},
   "source": [
    "The features with more than 15% missing values are removed."
   ]
  },
  {
   "cell_type": "code",
   "execution_count": 11,
   "metadata": {},
   "outputs": [],
   "source": [
    "df = df.drop(['franchise_make', 'interior_color', 'city_fuel_economy', 'highway_fuel_economy'], axis=1)"
   ]
  },
  {
   "cell_type": "markdown",
   "metadata": {},
   "source": [
    "There are some features which have unit labels ('in' for inches, 'gal' for gallons, 'seats') at the end of values. These labels are removed and the features are converted the modified strings into floats for numerical analysis."
   ]
  },
  {
   "cell_type": "code",
   "execution_count": 12,
   "metadata": {},
   "outputs": [],
   "source": [
    "df['back_legroom'] = df['back_legroom'].str.replace(r'\\s*in$', '', regex=True).astype(float)\n",
    "df['front_legroom'] = df['front_legroom'].str.replace(r'\\s*in$', '', regex=True).astype(float)\n",
    "df['width'] = df['width'].str.replace(r'\\s*in$', '', regex=True).astype(float)\n",
    "df['wheelbase'] = df['wheelbase'].str.replace(r'\\s*in$', '', regex=True).astype(float)\n",
    "df['height'] = df['height'].str.replace(r'\\s*in$', '', regex=True).astype(float)\n",
    "df['length'] = df['length'].str.replace(r'\\s*in$', '', regex=True).astype(float)\n",
    "df['fuel_tank_volume'] = df['fuel_tank_volume'].str.replace(r'\\s*gal$', '', regex=True).astype(float)\n",
    "df['maximum_seating'] = df['maximum_seating'].str.replace(r'\\s*seats$', '', regex=True).astype(float)"
   ]
  },
  {
   "cell_type": "markdown",
   "metadata": {},
   "source": [
    "The features 'transmission_display' and 'wheel_system_display' are similar with 'transmission' and 'wheel_system'. Therefore, these are removed."
   ]
  },
  {
   "cell_type": "code",
   "execution_count": 13,
   "metadata": {},
   "outputs": [],
   "source": [
    "df = df.drop(['transmission_display', 'wheel_system_display'], axis=1)"
   ]
  },
  {
   "cell_type": "markdown",
   "metadata": {},
   "source": [
    "The features 'engine_cylinders' and 'engine_type' are the same and 'engine_cylinders' is removed."
   ]
  },
  {
   "cell_type": "code",
   "execution_count": 14,
   "metadata": {},
   "outputs": [],
   "source": [
    "df = df.drop('engine_cylinders', axis=1)"
   ]
  },
  {
   "cell_type": "markdown",
   "metadata": {},
   "source": [
    "The feature 'major_options' contains key car features such as Bluetooth and backup cameras, making it a crucial variable. Therefore, rows with missing values in this feature are removed from the dataset."
   ]
  },
  {
   "cell_type": "code",
   "execution_count": 15,
   "metadata": {},
   "outputs": [],
   "source": [
    "df = df.dropna(subset=['major_options'])"
   ]
  },
  {
   "cell_type": "markdown",
   "metadata": {},
   "source": [
    "Since the definition of 'sp_id' is not known, it is removed. Moreover, the feature 'listing_color' is the dominant color of 'exterior_color'. That's why 'exterior_color' is removed. "
   ]
  },
  {
   "cell_type": "code",
   "execution_count": 16,
   "metadata": {},
   "outputs": [],
   "source": [
    "df = df.drop(['sp_id', 'exterior_color'], axis=1)"
   ]
  },
  {
   "cell_type": "markdown",
   "metadata": {},
   "source": [
    "The percentage of missing values for each feature left are recalculated."
   ]
  },
  {
   "cell_type": "code",
   "execution_count": 17,
   "metadata": {},
   "outputs": [
    {
     "name": "stdout",
     "output_type": "stream",
     "text": [
      "torque                 12.122195\n",
      "power                  10.365084\n",
      "back_legroom            6.051339\n",
      "front_legroom           4.087203\n",
      "fuel_tank_volume        3.492641\n",
      "maximum_seating         3.475588\n",
      "height                  3.475055\n",
      "width                   3.474722\n",
      "length                  3.474523\n",
      "wheelbase               3.473324\n",
      "horsepower              3.321452\n",
      "engine_displacement     3.321452\n",
      "wheel_system            2.529057\n",
      "engine_type             2.203666\n",
      "trim_name               2.181818\n",
      "trimId                  2.162168\n",
      "fuel_type               1.733664\n",
      "seller_rating           1.658328\n",
      "transmission            1.485142\n",
      "mileage                 1.099335\n",
      "body_type               0.063613\n",
      "model_name              0.000000\n",
      "theft_title             0.000000\n",
      "sp_name                 0.000000\n",
      "savings_amount          0.000000\n",
      "salvage                 0.000000\n",
      "price                   0.000000\n",
      "listing_color           0.000000\n",
      "make_name               0.000000\n",
      "major_options           0.000000\n",
      "longitude               0.000000\n",
      "listed_date             0.000000\n",
      "latitude                0.000000\n",
      "is_new                  0.000000\n",
      "isCab                   0.000000\n",
      "has_accidents           0.000000\n",
      "franchise_dealer        0.000000\n",
      "frame_damaged           0.000000\n",
      "fleet                   0.000000\n",
      "dealer_zip              0.000000\n",
      "daysonmarket            0.000000\n",
      "city                    0.000000\n",
      "year                    0.000000\n",
      "dtype: float64\n"
     ]
    }
   ],
   "source": [
    "new_percentage_df = df.isnull().mean()*100\n",
    "print(new_percentage_df.sort_values(ascending=False))"
   ]
  },
  {
   "cell_type": "markdown",
   "metadata": {},
   "source": [
    "Since the percentages of missing values of the features 'torque' and 'power' are more than 10%, the missing values of these features are removed."
   ]
  },
  {
   "cell_type": "code",
   "execution_count": 18,
   "metadata": {},
   "outputs": [],
   "source": [
    "df = df.dropna(subset=['torque', 'power'])"
   ]
  },
  {
   "cell_type": "markdown",
   "metadata": {},
   "source": [
    "The next part is to fill missing values but it depends on the type of columns."
   ]
  },
  {
   "cell_type": "code",
   "execution_count": 19,
   "metadata": {},
   "outputs": [
    {
     "name": "stdout",
     "output_type": "stream",
     "text": [
      "Numeric columns: Index(['back_legroom', 'daysonmarket', 'engine_displacement', 'front_legroom',\n",
      "       'fuel_tank_volume', 'height', 'horsepower', 'latitude', 'length',\n",
      "       'longitude', 'maximum_seating', 'mileage', 'price', 'savings_amount',\n",
      "       'seller_rating', 'wheelbase', 'width', 'year'],\n",
      "      dtype='object')\n",
      "Categorical columns: Index(['body_type', 'city', 'dealer_zip', 'engine_type', 'fleet',\n",
      "       'frame_damaged', 'fuel_type', 'has_accidents', 'isCab', 'listed_date',\n",
      "       'listing_color', 'major_options', 'make_name', 'model_name', 'power',\n",
      "       'salvage', 'sp_name', 'theft_title', 'torque', 'transmission', 'trimId',\n",
      "       'trim_name', 'wheel_system'],\n",
      "      dtype='object')\n",
      "Boolen columns: Index(['franchise_dealer', 'is_new'], dtype='object')\n"
     ]
    }
   ],
   "source": [
    "numeric_columns = df.select_dtypes(include=['number']).columns\n",
    "print('Numeric columns:', numeric_columns)\n",
    "categorical_columns = df.select_dtypes(include=['object', 'category']).columns\n",
    "print('Categorical columns:', categorical_columns)\n",
    "bool_columns = df.select_dtypes(include=['bool']).columns\n",
    "print('Boolen columns:', bool_columns)"
   ]
  },
  {
   "cell_type": "markdown",
   "metadata": {},
   "source": [
    "The missing values of numerical columns are filled by using the mean."
   ]
  },
  {
   "cell_type": "code",
   "execution_count": 20,
   "metadata": {},
   "outputs": [],
   "source": [
    "for col in ['back_legroom', 'seller_rating', 'mileage', 'fuel_tank_volume', 'front_legroom', 'maximum_seating', 'height', 'width', 'wheelbase', 'length']:\n",
    "    df[col] = df[col].fillna(df[col].mean()) ## there is no seller id "
   ]
  },
  {
   "cell_type": "markdown",
   "metadata": {},
   "source": [
    "Before filling missing values of categorical columns, their unique values are calculated."
   ]
  },
  {
   "cell_type": "code",
   "execution_count": 21,
   "metadata": {},
   "outputs": [
    {
     "name": "stdout",
     "output_type": "stream",
     "text": [
      "         Variable  Unique_Count\n",
      "11  major_options        178380\n",
      "20         trimId         33985\n",
      "16        sp_name         25905\n",
      "2      dealer_zip          9035\n",
      "21      trim_name          7485\n",
      "1            city          4659\n",
      "18         torque          1905\n",
      "14          power          1883\n",
      "9     listed_date          1642\n",
      "13     model_name           958\n",
      "12      make_name            59\n",
      "3     engine_type            37\n",
      "10  listing_color            15\n",
      "0       body_type             9\n",
      "6       fuel_type             7\n",
      "22   wheel_system             5\n",
      "19   transmission             4\n",
      "8           isCab             2\n",
      "15        salvage             2\n",
      "7   has_accidents             2\n",
      "17    theft_title             2\n",
      "5   frame_damaged             2\n",
      "4           fleet             2\n"
     ]
    }
   ],
   "source": [
    "unique_values_cat = {col: df[col].nunique() for col in categorical_columns}\n",
    "\n",
    "unique_values_cat = pd.DataFrame(list(unique_values_cat.items()), columns=['Variable', 'Unique_Count'])\n",
    "print(unique_values_cat.sort_values(by = 'Unique_Count', ascending=False))"
   ]
  },
  {
   "cell_type": "markdown",
   "metadata": {},
   "source": [
    "Since 'trim_name' has approximately 7500 unique values, it is removed."
   ]
  },
  {
   "cell_type": "code",
   "execution_count": 22,
   "metadata": {},
   "outputs": [],
   "source": [
    "df = df.drop('trim_name', axis=1)"
   ]
  },
  {
   "cell_type": "markdown",
   "metadata": {},
   "source": [
    "The missing values of categorical columns are filled by using the mean."
   ]
  },
  {
   "cell_type": "code",
   "execution_count": 23,
   "metadata": {},
   "outputs": [],
   "source": [
    "for col in ['body_type', 'fuel_type', 'engine_type', 'wheel_system', 'transmission']:\n",
    "    most_common = df[col].mode()[0]  # Mod \n",
    "    df[col] = df[col].fillna(most_common)"
   ]
  },
  {
   "cell_type": "code",
   "execution_count": 24,
   "metadata": {},
   "outputs": [
    {
     "name": "stdout",
     "output_type": "stream",
     "text": [
      "back_legroom           0.0\n",
      "savings_amount         0.0\n",
      "major_options          0.0\n",
      "make_name              0.0\n",
      "maximum_seating        0.0\n",
      "mileage                0.0\n",
      "model_name             0.0\n",
      "power                  0.0\n",
      "price                  0.0\n",
      "salvage                0.0\n",
      "seller_rating          0.0\n",
      "body_type              0.0\n",
      "sp_name                0.0\n",
      "theft_title            0.0\n",
      "torque                 0.0\n",
      "transmission           0.0\n",
      "trimId                 0.0\n",
      "wheel_system           0.0\n",
      "wheelbase              0.0\n",
      "width                  0.0\n",
      "longitude              0.0\n",
      "listing_color          0.0\n",
      "listed_date            0.0\n",
      "length                 0.0\n",
      "city                   0.0\n",
      "daysonmarket           0.0\n",
      "dealer_zip             0.0\n",
      "engine_displacement    0.0\n",
      "engine_type            0.0\n",
      "fleet                  0.0\n",
      "frame_damaged          0.0\n",
      "franchise_dealer       0.0\n",
      "front_legroom          0.0\n",
      "fuel_tank_volume       0.0\n",
      "fuel_type              0.0\n",
      "has_accidents          0.0\n",
      "height                 0.0\n",
      "horsepower             0.0\n",
      "isCab                  0.0\n",
      "is_new                 0.0\n",
      "latitude               0.0\n",
      "year                   0.0\n",
      "dtype: float64\n"
     ]
    }
   ],
   "source": [
    "new_percentage_df = df.isnull().mean()*100\n",
    "print(new_percentage_df.sort_values(ascending=False))"
   ]
  },
  {
   "cell_type": "markdown",
   "metadata": {},
   "source": [
    "Now, there is no missing data for these features in the dataset."
   ]
  },
  {
   "cell_type": "markdown",
   "metadata": {},
   "source": [
    "Boolean values in specified columns are converted into integers (0 or 1)"
   ]
  },
  {
   "cell_type": "code",
   "execution_count": 25,
   "metadata": {},
   "outputs": [],
   "source": [
    "for col in bool_columns:\n",
    "    df[col] = df[col].astype(int)"
   ]
  },
  {
   "cell_type": "markdown",
   "metadata": {},
   "source": [
    "To manage the dimensionality of the dataset when applying one-hot encoding, I first identify the most frequent categories for each categorical variable and label all remaining categories as 'Other'. This reduction of categories simplifies the dataset, ensuring that only the most impactful categories are included. "
   ]
  },
  {
   "cell_type": "code",
   "execution_count": 26,
   "metadata": {},
   "outputs": [
    {
     "name": "stdout",
     "output_type": "stream",
     "text": [
      "            Category  Percentage      Variable\n",
      "0    SUV / Crossover   45.437346     body_type\n",
      "1              Sedan   28.496646     body_type\n",
      "2       Pickup Truck   12.661415     body_type\n",
      "3            Minivan    3.501958     body_type\n",
      "4              Coupe    3.105212     body_type\n",
      "..               ...         ...           ...\n",
      "152              FWD   42.948502  wheel_system\n",
      "153              AWD   25.246562  wheel_system\n",
      "154              4WD   19.109447  wheel_system\n",
      "155              RWD    8.690921  wheel_system\n",
      "156              4X2    4.004568  wheel_system\n",
      "\n",
      "[157 rows x 3 columns]\n"
     ]
    }
   ],
   "source": [
    "categorical_columns = df.select_dtypes(include=['object', 'category']).columns\n",
    "\n",
    "top_categories_dfs = []\n",
    "\n",
    "for col in categorical_columns:\n",
    "    top_categories = df[col].value_counts(normalize=True).nlargest(10).reset_index() \n",
    "    top_categories.columns = ['Category', 'Percentage'] \n",
    "    top_categories['Percentage'] *= 100  \n",
    "    top_categories['Variable'] = col \n",
    "    top_categories_dfs.append(top_categories) \n",
    "\n",
    "final_df = pd.concat(top_categories_dfs, ignore_index=True)\n",
    "\n",
    "print(final_df)"
   ]
  },
  {
   "cell_type": "markdown",
   "metadata": {},
   "source": [
    "The threshold for selecting the most frequent categories is set at 20%. Any category that makes up at least 20% of a variable will be retained, and categories below this threshold will be labeled as 'Other'."
   ]
  },
  {
   "cell_type": "code",
   "execution_count": 27,
   "metadata": {},
   "outputs": [
    {
     "name": "stdout",
     "output_type": "stream",
     "text": [
      "          Category  Percentage   Variable\n",
      "0  SUV / Crossover   45.437346  body_type\n",
      "1            Sedan   28.496646  body_type\n",
      "2     Pickup Truck   12.661415  body_type\n",
      "3          Minivan    3.501958  body_type\n",
      "4            Coupe    3.105212  body_type\n",
      "5        Hatchback    2.329326  body_type\n",
      "6            Wagon    1.958686  body_type\n",
      "7      Convertible    1.358710  body_type\n",
      "8              Van    1.150700  body_type\n"
     ]
    }
   ],
   "source": [
    "## body_type\n",
    "print(final_df.loc[final_df['Variable'] == 'body_type'])\n",
    "top_categories = df['body_type'].value_counts().nlargest(2).index ## the number of the most frequent categories is 2\n",
    "df['body_type'] = df['body_type'].apply(lambda x: x if x in top_categories else 'Other')"
   ]
  },
  {
   "cell_type": "code",
   "execution_count": 28,
   "metadata": {},
   "outputs": [
    {
     "name": "stdout",
     "output_type": "stream",
     "text": [
      "        Category  Percentage Variable\n",
      "9        Houston    1.378973     city\n",
      "10   San Antonio    0.704550     city\n",
      "11      Columbus    0.614850     city\n",
      "12         Miami    0.613636     city\n",
      "13       Phoenix    0.575995     city\n",
      "14  Jacksonville    0.563929     city\n",
      "15        Dallas    0.543666     city\n",
      "16       Orlando    0.537899     city\n",
      "17         Tampa    0.528109     city\n",
      "18     Las Vegas    0.510048     city\n"
     ]
    }
   ],
   "source": [
    "## city\n",
    "print(final_df.loc[final_df['Variable'] == 'city'])\n",
    "df = df.drop('city', axis=1) ## since there is no frequent variable"
   ]
  },
  {
   "cell_type": "code",
   "execution_count": 29,
   "metadata": {},
   "outputs": [
    {
     "name": "stdout",
     "output_type": "stream",
     "text": [
      "   Category  Percentage    Variable\n",
      "19    77477    0.413745  dealer_zip\n",
      "20    33612    0.175151  dealer_zip\n",
      "21    77034    0.171964  dealer_zip\n",
      "22    30096    0.169308  dealer_zip\n",
      "23    30060    0.164830  dealer_zip\n",
      "24    77074    0.158380  dealer_zip\n",
      "25    75006    0.153599  dealer_zip\n",
      "26    32505    0.153067  dealer_zip\n",
      "27    43228    0.149652  dealer_zip\n",
      "28    77090    0.146465  dealer_zip\n"
     ]
    }
   ],
   "source": [
    "## dealer_zip\n",
    "print(final_df.loc[final_df['Variable'] == 'dealer_zip'])\n",
    "df = df.drop('dealer_zip', axis=1) ## since there is no frequent category"
   ]
  },
  {
   "cell_type": "code",
   "execution_count": 30,
   "metadata": {},
   "outputs": [
    {
     "name": "stdout",
     "output_type": "stream",
     "text": [
      "                Category  Percentage     Variable\n",
      "29                    I4   46.932201  engine_type\n",
      "30                    V6   29.043575  engine_type\n",
      "31                    V8   10.444480  engine_type\n",
      "32  V8 Flex Fuel Vehicle    3.162280  engine_type\n",
      "33  V6 Flex Fuel Vehicle    3.040251  engine_type\n",
      "34                    H4    2.394970  engine_type\n",
      "35                    I6    1.492806  engine_type\n",
      "36  I4 Flex Fuel Vehicle    0.654767  engine_type\n",
      "37             I4 Diesel    0.495932  engine_type\n",
      "38                    I3    0.362065  engine_type\n"
     ]
    }
   ],
   "source": [
    "## engine_type\n",
    "print(final_df.loc[final_df['Variable'] == 'engine_type'])\n",
    "top_categories = df['engine_type'].value_counts().nlargest(2).index  ## the number of the most frequent categories is 2\n",
    "df['engine_type'] = df['engine_type'].apply(lambda x: x if x in top_categories else 'Other')"
   ]
  },
  {
   "cell_type": "code",
   "execution_count": 31,
   "metadata": {},
   "outputs": [
    {
     "name": "stdout",
     "output_type": "stream",
     "text": [
      "                  Category  Percentage   Variable\n",
      "43                Gasoline   91.448259  fuel_type\n",
      "44       Flex Fuel Vehicle    6.864433  fuel_type\n",
      "45                  Diesel    1.221504  fuel_type\n",
      "46               Biodiesel    0.366922  fuel_type\n",
      "47                  Hybrid    0.091749  fuel_type\n",
      "48  Compressed Natural Gas    0.006830  fuel_type\n",
      "49                 Propane    0.000304  fuel_type\n"
     ]
    }
   ],
   "source": [
    "## fuel_type\n",
    "print(final_df.loc[final_df['Variable'] == 'fuel_type'])\n",
    "top_categories = df['fuel_type'].value_counts().nlargest(1).index  ## the number of the most frequent categories is 1\n",
    "df['fuel_type'] = df['fuel_type'].apply(lambda x: x if x in top_categories else 'Other')"
   ]
  },
  {
   "cell_type": "code",
   "execution_count": 32,
   "metadata": {},
   "outputs": [
    {
     "name": "stdout",
     "output_type": "stream",
     "text": [
      "      Category  Percentage     Variable\n",
      "54  2020-09-02    2.860168  listed_date\n",
      "55  2020-09-03    2.609811  listed_date\n",
      "56  2020-09-05    2.534681  listed_date\n",
      "57  2020-09-04    2.324697  listed_date\n",
      "58  2020-08-29    2.301551  listed_date\n",
      "59  2020-08-28    2.210105  listed_date\n",
      "60  2020-08-27    2.162144  listed_date\n",
      "61  2020-08-26    2.092478  listed_date\n",
      "62  2020-09-06    2.018790  listed_date\n",
      "63  2020-08-30    2.002170  listed_date\n"
     ]
    }
   ],
   "source": [
    "## listed_date\n",
    "print(final_df.loc[final_df['Variable'] == 'listed_date'])\n",
    "df = df.drop('listed_date', axis=1) ## since there is no frequent category"
   ]
  },
  {
   "cell_type": "code",
   "execution_count": 33,
   "metadata": {},
   "outputs": [
    {
     "name": "stdout",
     "output_type": "stream",
     "text": [
      "   Category  Percentage       Variable\n",
      "64    WHITE   21.522858  listing_color\n",
      "65    BLACK   20.556947  listing_color\n",
      "66   SILVER   13.990453  listing_color\n",
      "67     GRAY   12.841195  listing_color\n",
      "68  UNKNOWN   10.692939  listing_color\n",
      "69      RED    8.752770  listing_color\n",
      "70     BLUE    8.406262  listing_color\n",
      "71    BROWN    1.109947  listing_color\n",
      "72    GREEN    0.856176  listing_color\n",
      "73     GOLD    0.504887  listing_color\n"
     ]
    }
   ],
   "source": [
    "## listing_color\n",
    "print(final_df.loc[final_df['Variable'] == 'listing_color'])\n",
    "top_categories = df['listing_color'].value_counts().nlargest(2).index  ## the number of the most frequent categories is 2\n",
    "df['listing_color'] = df['listing_color'].apply(lambda x: x if x in top_categories else 'Other')"
   ]
  },
  {
   "cell_type": "code",
   "execution_count": 34,
   "metadata": {},
   "outputs": [
    {
     "name": "stdout",
     "output_type": "stream",
     "text": [
      "     Category  Percentage   Variable\n",
      "84       Ford   13.441930  make_name\n",
      "85  Chevrolet   11.712503  make_name\n",
      "86     Nissan    8.097851  make_name\n",
      "87     Toyota    6.928179  make_name\n",
      "88      Honda    6.597608  make_name\n",
      "89       Jeep    5.898370  make_name\n",
      "90    Hyundai    4.141548  make_name\n",
      "91      Dodge    4.129102  make_name\n",
      "92        GMC    3.849983  make_name\n",
      "93        Kia    3.668078  make_name\n"
     ]
    }
   ],
   "source": [
    "## make_name\n",
    "print(final_df.loc[final_df['Variable'] == 'make_name'])\n",
    "df = df.drop('make_name', axis=1) ## since there is no frequent category"
   ]
  },
  {
   "cell_type": "code",
   "execution_count": 35,
   "metadata": {},
   "outputs": [
    {
     "name": "stdout",
     "output_type": "stream",
     "text": [
      "           Category  Percentage    Variable\n",
      "94            F-150    3.103163  model_name\n",
      "95   Silverado 1500    2.416750  model_name\n",
      "96           Escape    1.955423  model_name\n",
      "97             1500    1.903363  model_name\n",
      "98            Rogue    1.901846  model_name\n",
      "99   Grand Cherokee    1.628798  model_name\n",
      "100          Accord    1.504948  model_name\n",
      "101          Altima    1.485672  model_name\n",
      "102          Malibu    1.411529  model_name\n",
      "103        Explorer    1.394454  model_name\n"
     ]
    }
   ],
   "source": [
    "## model_name\n",
    "print(final_df.loc[final_df['Variable'] == 'model_name'])\n",
    "df = df.drop('model_name', axis=1) ## since there is no frequent category"
   ]
  },
  {
   "cell_type": "code",
   "execution_count": 36,
   "metadata": {},
   "outputs": [
    {
     "name": "stdout",
     "output_type": "stream",
     "text": [
      "                         Category  Percentage Variable\n",
      "116                       Carvana    0.464059  sp_name\n",
      "117                         Vroom    0.386577  sp_name\n",
      "118       Avis Car Sales - Denver    0.084236  sp_name\n",
      "119           Pacific Auto Center    0.056006  sp_name\n",
      "120           Honda of Fort Myers    0.053805  sp_name\n",
      "121                Auto Spot LLC.    0.050314  sp_name\n",
      "122                 ALM Kia South    0.049707  sp_name\n",
      "123  EchoPark Automotive - Dallas    0.047355  sp_name\n",
      "124                  Auto Express    0.045381  sp_name\n",
      "125               Autos of Dallas    0.045230  sp_name\n"
     ]
    }
   ],
   "source": [
    "## sp_name\n",
    "print(final_df.loc[final_df['Variable'] == 'sp_name'])\n",
    "df = df.drop('sp_name', axis=1) ## since there is no frequent category"
   ]
  },
  {
   "cell_type": "code",
   "execution_count": 37,
   "metadata": {},
   "outputs": [
    {
     "name": "stdout",
     "output_type": "stream",
     "text": [
      "        Category  Percentage      Variable\n",
      "138            A   85.725192  transmission\n",
      "139          CVT   11.538870  transmission\n",
      "140            M    2.395274  transmission\n",
      "141  Dual Clutch    0.340664  transmission\n"
     ]
    }
   ],
   "source": [
    "## transmission\n",
    "print(final_df.loc[final_df['Variable'] == 'transmission'])\n",
    "top_categories = df['transmission'].value_counts().nlargest(1).index ## the number of the most frequent categories is 1\n",
    "df['transmission'] = df['transmission'].apply(lambda x: x if x in top_categories else 'Other')"
   ]
  },
  {
   "cell_type": "code",
   "execution_count": 38,
   "metadata": {},
   "outputs": [
    {
     "name": "stdout",
     "output_type": "stream",
     "text": [
      "    Category  Percentage      Variable\n",
      "152      FWD   42.948502  wheel_system\n",
      "153      AWD   25.246562  wheel_system\n",
      "154      4WD   19.109447  wheel_system\n",
      "155      RWD    8.690921  wheel_system\n",
      "156      4X2    4.004568  wheel_system\n"
     ]
    }
   ],
   "source": [
    "## wheel_system\n",
    "print(final_df.loc[final_df['Variable'] == 'wheel_system'])\n",
    "top_categories = df['wheel_system'].value_counts().nlargest(2).index ## the number of the most frequent categories is 1\n",
    "df['wheel_system'] = df['wheel_system'].apply(lambda x: x if x in top_categories else 'Other')"
   ]
  },
  {
   "cell_type": "code",
   "execution_count": 39,
   "metadata": {},
   "outputs": [
    {
     "name": "stdout",
     "output_type": "stream",
     "text": [
      "    Category  Percentage Variable\n",
      "142   t82263    0.346811   trimId\n",
      "143   t73359    0.314331   trimId\n",
      "144   t82619    0.309853   trimId\n",
      "145   t67808    0.294827   trimId\n",
      "146   t66967    0.292551   trimId\n",
      "147   t78889    0.290881   trimId\n",
      "148   t83401    0.268418   trimId\n",
      "149   t66217    0.260602   trimId\n",
      "150   t87739    0.259084   trimId\n",
      "151   t68162    0.255593   trimId\n"
     ]
    }
   ],
   "source": [
    "## trimId\n",
    "print(final_df.loc[final_df['Variable'] == 'trimId'])\n",
    "df = df.drop('trimId', axis=1) ## since there is no frequent category"
   ]
  },
  {
   "cell_type": "markdown",
   "metadata": {},
   "source": [
    "The feature 'power' is of mixed type and contains values formatted like '395 hp @ 5,600 RPM'. To simplify analysis, I separate this data into two columns: one for horsepower and another for RPM."
   ]
  },
  {
   "cell_type": "code",
   "execution_count": 40,
   "metadata": {},
   "outputs": [],
   "source": [
    "df[['hp', 'RPM']] = df['power'].str.split('@', expand=True)\n",
    "\n",
    "df['hp'] = df['hp'].str.extract('(\\d+)').astype(int)  \n",
    "df['RPM'] = df['RPM'].str.extract('(\\d+,\\d+|\\d+)').replace(',', '', regex=True)\n",
    "df['RPM'] = pd.to_numeric(df['RPM'], errors='coerce').fillna(0).astype(int) "
   ]
  },
  {
   "cell_type": "markdown",
   "metadata": {},
   "source": [
    "Since the feature 'power' is seperated and there is a feature called 'horsepower', I removed the features 'power' and 'hp'."
   ]
  },
  {
   "cell_type": "code",
   "execution_count": 41,
   "metadata": {},
   "outputs": [],
   "source": [
    "df = df.drop(['power', 'hp'], axis=1)"
   ]
  },
  {
   "cell_type": "markdown",
   "metadata": {},
   "source": [
    "'major_options' consists of a list of specific features, such as 'Steel Wheels', 'Bluetooth', 'Backup Camera'. Initially, the five most frequent features are identified, and new columns are created for each of these top features."
   ]
  },
  {
   "cell_type": "code",
   "execution_count": 42,
   "metadata": {},
   "outputs": [
    {
     "data": {
      "text/html": [
       "<div>\n",
       "<style scoped>\n",
       "    .dataframe tbody tr th:only-of-type {\n",
       "        vertical-align: middle;\n",
       "    }\n",
       "\n",
       "    .dataframe tbody tr th {\n",
       "        vertical-align: top;\n",
       "    }\n",
       "\n",
       "    .dataframe thead th {\n",
       "        text-align: right;\n",
       "    }\n",
       "</style>\n",
       "<table border=\"1\" class=\"dataframe\">\n",
       "  <thead>\n",
       "    <tr style=\"text-align: right;\">\n",
       "      <th></th>\n",
       "      <th>Option</th>\n",
       "      <th>Count</th>\n",
       "      <th>Percentage</th>\n",
       "    </tr>\n",
       "  </thead>\n",
       "  <tbody>\n",
       "    <tr>\n",
       "      <th>1</th>\n",
       "      <td>Bluetooth</td>\n",
       "      <td>1005469</td>\n",
       "      <td>12.534744</td>\n",
       "    </tr>\n",
       "    <tr>\n",
       "      <th>2</th>\n",
       "      <td>Backup Camera</td>\n",
       "      <td>988993</td>\n",
       "      <td>12.329345</td>\n",
       "    </tr>\n",
       "    <tr>\n",
       "      <th>0</th>\n",
       "      <td>Alloy Wheels</td>\n",
       "      <td>958358</td>\n",
       "      <td>11.947432</td>\n",
       "    </tr>\n",
       "    <tr>\n",
       "      <th>3</th>\n",
       "      <td>Heated Seats</td>\n",
       "      <td>591758</td>\n",
       "      <td>7.377189</td>\n",
       "    </tr>\n",
       "    <tr>\n",
       "      <th>6</th>\n",
       "      <td>Navigation System</td>\n",
       "      <td>526475</td>\n",
       "      <td>6.563335</td>\n",
       "    </tr>\n",
       "    <tr>\n",
       "      <th>...</th>\n",
       "      <td>...</td>\n",
       "      <td>...</td>\n",
       "      <td>...</td>\n",
       "    </tr>\n",
       "    <tr>\n",
       "      <th>140</th>\n",
       "      <td>Grand Tour Package</td>\n",
       "      <td>8</td>\n",
       "      <td>0.000100</td>\n",
       "    </tr>\n",
       "    <tr>\n",
       "      <th>143</th>\n",
       "      <td>Convenience Light Package</td>\n",
       "      <td>8</td>\n",
       "      <td>0.000100</td>\n",
       "    </tr>\n",
       "    <tr>\n",
       "      <th>138</th>\n",
       "      <td>Appearance and Protection Package</td>\n",
       "      <td>3</td>\n",
       "      <td>0.000037</td>\n",
       "    </tr>\n",
       "    <tr>\n",
       "      <th>141</th>\n",
       "      <td>Adaptive Ride Package</td>\n",
       "      <td>2</td>\n",
       "      <td>0.000025</td>\n",
       "    </tr>\n",
       "    <tr>\n",
       "      <th>142</th>\n",
       "      <td>Z85 Package</td>\n",
       "      <td>2</td>\n",
       "      <td>0.000025</td>\n",
       "    </tr>\n",
       "  </tbody>\n",
       "</table>\n",
       "<p>144 rows × 3 columns</p>\n",
       "</div>"
      ],
      "text/plain": [
       "                                Option    Count  Percentage\n",
       "1                            Bluetooth  1005469   12.534744\n",
       "2                        Backup Camera   988993   12.329345\n",
       "0                         Alloy Wheels   958358   11.947432\n",
       "3                         Heated Seats   591758    7.377189\n",
       "6                    Navigation System   526475    6.563335\n",
       "..                                 ...      ...         ...\n",
       "140                 Grand Tour Package        8    0.000100\n",
       "143          Convenience Light Package        8    0.000100\n",
       "138  Appearance and Protection Package        3    0.000037\n",
       "141              Adaptive Ride Package        2    0.000025\n",
       "142                        Z85 Package        2    0.000025\n",
       "\n",
       "[144 rows x 3 columns]"
      ]
     },
     "execution_count": 42,
     "metadata": {},
     "output_type": "execute_result"
    }
   ],
   "source": [
    "options_counter = Counter()\n",
    "\n",
    "for options_string in df['major_options']:\n",
    "   \n",
    "    options_list = ast.literal_eval(options_string)\n",
    "    \n",
    "    options_counter.update(options_list)\n",
    "\n",
    "options_count_df = pd.DataFrame(list(options_counter.items()), columns=['Option', 'Count'])\n",
    "\n",
    "total_options_count = sum(options_counter.values())\n",
    "\n",
    "options_count_df['Percentage'] = options_count_df['Count'].apply(lambda x: (x / total_options_count) * 100)\n",
    "\n",
    "options_count_df.sort_values(by='Percentage', ascending=False) ## there are 144 major options"
   ]
  },
  {
   "cell_type": "code",
   "execution_count": 43,
   "metadata": {},
   "outputs": [],
   "source": [
    "df['Bluetooth'] = df['major_options'].apply(lambda options: 1 if 'Bluetooth' in options else 0)\n",
    "df['Backup_Camera'] = df['major_options'].apply(lambda options: 1 if 'Backup Camera' in options else 0)\n",
    "df['Alloy_Wheels'] = df['major_options'].apply(lambda options: 1 if 'Alloy Wheels' in options else 0)\n",
    "df['Heated_Seats'] = df['major_options'].apply(lambda options: 1 if 'Heated Seats' in options else 0)\n",
    "df['Navigation_System'] = df['major_options'].apply(lambda options: 1 if 'Navigation System' in options else 0)"
   ]
  },
  {
   "cell_type": "code",
   "execution_count": 44,
   "metadata": {},
   "outputs": [],
   "source": [
    "df = df.drop('major_options', axis=1) ## removed"
   ]
  },
  {
   "cell_type": "markdown",
   "metadata": {},
   "source": [
    "The feature 'torque' is of mixed type and contains values formatted like ''258 lb-ft @ 1,500 RPM'. To simplify analysis, I separate this data into two columns: one for lb-ft and another for torque RPM."
   ]
  },
  {
   "cell_type": "code",
   "execution_count": 45,
   "metadata": {},
   "outputs": [],
   "source": [
    "df[['torque_value', 'torque_rpm']] = df['torque'].str.split(' @ ', expand=True)\n",
    "\n",
    "df['torque_value'] = df['torque_value'].str.extract('(\\d+)')[0].fillna(0).astype(int)\n",
    "df['torque_rpm'] = df['torque_rpm'].str.replace(',', '').str.extract('(\\d+)')[0].fillna(0).astype(int)"
   ]
  },
  {
   "cell_type": "code",
   "execution_count": 46,
   "metadata": {},
   "outputs": [],
   "source": [
    "df = df.drop('torque', axis=1) #removed"
   ]
  },
  {
   "cell_type": "markdown",
   "metadata": {},
   "source": [
    "The features 'fuel_type' ve 'transmission' have 2 different values. If the value is other, set 0 otherwise 1"
   ]
  },
  {
   "cell_type": "code",
   "execution_count": 47,
   "metadata": {},
   "outputs": [],
   "source": [
    "df['fuel_type'] = df['fuel_type'].map({'Other': 0, 'Gasoline': 1})\n",
    "df['transmission'] = df['transmission'].map({'Other': 0, 'A': 1})"
   ]
  },
  {
   "cell_type": "code",
   "execution_count": 48,
   "metadata": {},
   "outputs": [
    {
     "name": "stdout",
     "output_type": "stream",
     "text": [
      "<class 'pandas.core.frame.DataFrame'>\n",
      "Index: 1317720 entries, 2 to 3000039\n",
      "Data columns (total 40 columns):\n",
      " #   Column               Non-Null Count    Dtype  \n",
      "---  ------               --------------    -----  \n",
      " 0   back_legroom         1317720 non-null  float64\n",
      " 1   body_type            1317720 non-null  object \n",
      " 2   daysonmarket         1317720 non-null  int64  \n",
      " 3   engine_displacement  1317720 non-null  float64\n",
      " 4   engine_type          1317720 non-null  object \n",
      " 5   fleet                1317720 non-null  object \n",
      " 6   frame_damaged        1317720 non-null  object \n",
      " 7   franchise_dealer     1317720 non-null  int64  \n",
      " 8   front_legroom        1317720 non-null  float64\n",
      " 9   fuel_tank_volume     1317720 non-null  float64\n",
      " 10  fuel_type            1317720 non-null  int64  \n",
      " 11  has_accidents        1317720 non-null  object \n",
      " 12  height               1317720 non-null  float64\n",
      " 13  horsepower           1317720 non-null  float64\n",
      " 14  isCab                1317720 non-null  object \n",
      " 15  is_new               1317720 non-null  int64  \n",
      " 16  latitude             1317720 non-null  float64\n",
      " 17  length               1317720 non-null  float64\n",
      " 18  listing_color        1317720 non-null  object \n",
      " 19  longitude            1317720 non-null  float64\n",
      " 20  maximum_seating      1317720 non-null  float64\n",
      " 21  mileage              1317720 non-null  float64\n",
      " 22  price                1317720 non-null  float64\n",
      " 23  salvage              1317720 non-null  object \n",
      " 24  savings_amount       1317720 non-null  int64  \n",
      " 25  seller_rating        1317720 non-null  float64\n",
      " 26  theft_title          1317720 non-null  object \n",
      " 27  transmission         1317720 non-null  int64  \n",
      " 28  wheel_system         1317720 non-null  object \n",
      " 29  wheelbase            1317720 non-null  float64\n",
      " 30  width                1317720 non-null  float64\n",
      " 31  year                 1317720 non-null  int64  \n",
      " 32  RPM                  1317720 non-null  int64  \n",
      " 33  Bluetooth            1317720 non-null  int64  \n",
      " 34  Backup_Camera        1317720 non-null  int64  \n",
      " 35  Alloy_Wheels         1317720 non-null  int64  \n",
      " 36  Heated_Seats         1317720 non-null  int64  \n",
      " 37  Navigation_System    1317720 non-null  int64  \n",
      " 38  torque_value         1317720 non-null  int64  \n",
      " 39  torque_rpm           1317720 non-null  int64  \n",
      "dtypes: float64(15), int64(15), object(10)\n",
      "memory usage: 412.2+ MB\n"
     ]
    }
   ],
   "source": [
    "df.info()"
   ]
  },
  {
   "cell_type": "markdown",
   "metadata": {},
   "source": [
    "The features 'isCab', 'salvage', 'theft_title', 'has_accidents', 'frame_damaged' and 'fleet' contain true/false values and these columns are converted into 1/0."
   ]
  },
  {
   "cell_type": "code",
   "execution_count": 49,
   "metadata": {},
   "outputs": [],
   "source": [
    "columns_to_convert = ['isCab', 'salvage', 'theft_title', 'has_accidents', 'frame_damaged', 'fleet']\n",
    "\n",
    "df[columns_to_convert] = df[columns_to_convert].astype(int)"
   ]
  },
  {
   "cell_type": "markdown",
   "metadata": {},
   "source": [
    "There are still some categorical columns."
   ]
  },
  {
   "cell_type": "code",
   "execution_count": 50,
   "metadata": {},
   "outputs": [
    {
     "name": "stdout",
     "output_type": "stream",
     "text": [
      "Categorical columns: Index(['body_type', 'engine_type', 'listing_color', 'wheel_system'], dtype='object')\n"
     ]
    }
   ],
   "source": [
    "categorical_columns_last = df.select_dtypes(include=['object', 'category']).columns\n",
    "print('Categorical columns:', categorical_columns_last)"
   ]
  },
  {
   "cell_type": "markdown",
   "metadata": {},
   "source": [
    "### One-hot encoding"
   ]
  },
  {
   "cell_type": "markdown",
   "metadata": {},
   "source": [
    "One-hot encoding is applied to the categorical columns in the dataset to convert categorical data into a numerical format."
   ]
  },
  {
   "cell_type": "code",
   "execution_count": 51,
   "metadata": {},
   "outputs": [],
   "source": [
    "df = pd.get_dummies(df, columns=categorical_columns_last)\n",
    "df = df.astype(int)"
   ]
  },
  {
   "cell_type": "markdown",
   "metadata": {},
   "source": [
    "### Feature Selection"
   ]
  },
  {
   "cell_type": "markdown",
   "metadata": {},
   "source": [
    "First, the features and the target variable are defined."
   ]
  },
  {
   "cell_type": "code",
   "execution_count": 82,
   "metadata": {},
   "outputs": [],
   "source": [
    "X = df.drop('price', axis=1) # features\n",
    "y = df['price'] # label or target variable\n"
   ]
  },
  {
   "cell_type": "markdown",
   "metadata": {},
   "source": [
    "Before feature selection, the distributions of target variable and features are analyzed to check if needed standardization of the data set."
   ]
  },
  {
   "cell_type": "code",
   "execution_count": 68,
   "metadata": {},
   "outputs": [
    {
     "name": "stdout",
     "output_type": "stream",
     "text": [
      "min     2.000000e+02\n",
      "mean    2.322665e+04\n",
      "max     3.195000e+06\n",
      "Name: price, dtype: float64\n"
     ]
    }
   ],
   "source": [
    "print(y.agg(['min', 'mean', 'max']))"
   ]
  },
  {
   "cell_type": "markdown",
   "metadata": {},
   "source": [
    "Based on the statistics of the target variable 'price', which shows a minimum value of 200, a mean of 23,226.65, and a maximum of 3,195,000, scaling is necessary to normalize the data distribution. This step will help reduce the influence of extreme values, ensuring that the machine learning models can operate more efficiently and effectively, without being skewed by the wide range of values in the target variable."
   ]
  },
  {
   "cell_type": "code",
   "execution_count": 62,
   "metadata": {},
   "outputs": [
    {
     "name": "stdout",
     "output_type": "stream",
     "text": [
      "      back_legroom  daysonmarket  engine_displacement     fleet  \\\n",
      "min        0.00000      0.000000          1000.000000  0.000000   \n",
      "mean      37.07283     57.704326          3105.525757  0.217917   \n",
      "max       59.00000   3573.000000          8400.000000  1.000000   \n",
      "\n",
      "      frame_damaged  franchise_dealer  front_legroom  fuel_tank_volume  \\\n",
      "min        0.000000          0.000000       0.000000          7.000000   \n",
      "mean       0.009328          0.647743      41.819724         18.637503   \n",
      "max        1.000000          1.000000      67.000000         64.000000   \n",
      "\n",
      "      fuel_type  has_accidents  ...  body_type_Sedan  engine_type_I4  \\\n",
      "min    0.000000       0.000000  ...         0.000000        0.000000   \n",
      "mean   0.914483       0.155628  ...         0.284966        0.469322   \n",
      "max    1.000000       1.000000  ...         1.000000        1.000000   \n",
      "\n",
      "      engine_type_Other  engine_type_V6  listing_color_BLACK  \\\n",
      "min            0.000000        0.000000             0.000000   \n",
      "mean           0.240242        0.290436             0.205569   \n",
      "max            1.000000        1.000000             1.000000   \n",
      "\n",
      "      listing_color_Other  listing_color_WHITE  wheel_system_AWD  \\\n",
      "min              0.000000             0.000000          0.000000   \n",
      "mean             0.579202             0.215229          0.252466   \n",
      "max              1.000000             1.000000          1.000000   \n",
      "\n",
      "      wheel_system_FWD  wheel_system_Other  \n",
      "min           0.000000            0.000000  \n",
      "mean          0.429485            0.318049  \n",
      "max           1.000000            1.000000  \n",
      "\n",
      "[3 rows x 47 columns]\n"
     ]
    }
   ],
   "source": [
    "print(X.agg(['min', 'mean', 'max']))"
   ]
  },
  {
   "cell_type": "markdown",
   "metadata": {},
   "source": [
    "Given the substantial range in the statistics of the features, such as 'daysonmarket' which varies from 0 to 3573, and 'engine_displacement' ranging from 1000 to 8400, scaling is essential. Scaling these features will standardize their ranges, making it easier for machine learning algorithms to process the data without bias towards larger scale features, and improving the overall predictive performance of the model."
   ]
  },
  {
   "cell_type": "code",
   "execution_count": 83,
   "metadata": {},
   "outputs": [],
   "source": [
    "scaler = StandardScaler()\n",
    "X_scaled = scaler.fit_transform(X)\n",
    "X_scaled_df = pd.DataFrame(X_scaled, columns=X.columns) \n",
    "y_scaled = scaler.fit_transform(y.values.reshape(-1, 1)).ravel()"
   ]
  },
  {
   "cell_type": "code",
   "execution_count": 80,
   "metadata": {},
   "outputs": [
    {
     "data": {
      "text/plain": [
       "(1317720, 47)"
      ]
     },
     "execution_count": 80,
     "metadata": {},
     "output_type": "execute_result"
    }
   ],
   "source": [
    "X_scaled_df.shape"
   ]
  },
  {
   "cell_type": "markdown",
   "metadata": {},
   "source": [
    "There are 47 features and I need to perform dimensionality reduction/feature selection to increase model training efficiency and potentially enhance model accuracy by eliminating irrelevant features that do not contribute significantly to the predictive power of the model. This process will also help in simplifying the model, making it faster to train and easier to interpret. For the feature selection process, the SelectKBest method is employed."
   ]
  },
  {
   "cell_type": "code",
   "execution_count": 84,
   "metadata": {},
   "outputs": [
    {
     "name": "stdout",
     "output_type": "stream",
     "text": [
      "               Feature          Score\n",
      "2           horsepower  587849.279022\n",
      "8         torque_value  400011.260274\n",
      "3              mileage  292430.969838\n",
      "7                 year  238271.045671\n",
      "9     wheel_system_FWD  179244.008135\n",
      "6                width  163366.786099\n",
      "0  engine_displacement  145273.841843\n",
      "4       savings_amount  144520.637862\n",
      "1     fuel_tank_volume  143329.937762\n",
      "5            wheelbase  123929.852517\n"
     ]
    }
   ],
   "source": [
    "selector = SelectKBest(score_func=f_regression, k=10)\n",
    "\n",
    "X_new = selector.fit_transform(X_scaled_df, y_scaled)\n",
    "\n",
    "selected_features = X.columns[selector.get_support()]\n",
    "selected_scores = selector.scores_[selector.get_support()]\n",
    "\n",
    "# create dataframe for selected features\n",
    "features_scores_df = pd.DataFrame({'Feature': selected_features, 'Score': selected_scores})\n",
    "\n",
    "print(features_scores_df.sort_values(by=\"Score\", ascending=False))"
   ]
  },
  {
   "cell_type": "markdown",
   "metadata": {},
   "source": [
    "The scaled feature set and the scaled target variable are horizontally concatenated for modeling."
   ]
  },
  {
   "cell_type": "code",
   "execution_count": 86,
   "metadata": {},
   "outputs": [],
   "source": [
    "X_filtered = X_scaled_df[selected_features]\n",
    "y_scaled_series = pd.Series(y_scaled, name='price')\n",
    "df_filtered = pd.concat([X_filtered, y_scaled_series], axis=1)"
   ]
  },
  {
   "cell_type": "markdown",
   "metadata": {},
   "source": [
    "Save the cleaned and preprocessed dataset to a CSV file."
   ]
  },
  {
   "cell_type": "code",
   "execution_count": 88,
   "metadata": {},
   "outputs": [],
   "source": [
    "df_filtered.to_csv('filtered_used_cars_data.csv', index=False)"
   ]
  }
 ],
 "metadata": {
  "kernelspec": {
   "display_name": "mydashenv",
   "language": "python",
   "name": "python3"
  },
  "language_info": {
   "codemirror_mode": {
    "name": "ipython",
    "version": 3
   },
   "file_extension": ".py",
   "mimetype": "text/x-python",
   "name": "python",
   "nbconvert_exporter": "python",
   "pygments_lexer": "ipython3",
   "version": "3.11.0"
  },
  "orig_nbformat": 4
 },
 "nbformat": 4,
 "nbformat_minor": 2
}
