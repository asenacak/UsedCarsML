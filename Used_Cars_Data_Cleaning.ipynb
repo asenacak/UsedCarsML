{
 "cells": [
  {
   "cell_type": "markdown",
   "metadata": {},
   "source": [
    "# Preprocessing the Used Cars Dataset"
   ]
  },
  {
   "cell_type": "markdown",
   "metadata": {},
   "source": [
    "In this notebook, I initiate the data cleaning process by addressing placeholder characters represented as '--' within the dataset. Following this, I tackle the issue of missing values using a comprehensive approach that includes the removal of missing entries in certain columns, as well as the implementation of mean imputation, mode imputation, and multiple imputation techniques. Subsequently, I apply one-hot encoding to convert categorical variables into a numerical format that is suitable for modeling. This is followed by normalization of the numerical columns to ensure that the data is standardized across all relevant features. Finally, I perform feature selection using the SelectKBest method to identify the most informative variables that will enhance the predictive accuracy of the models.\n",
    "\n",
    "Data Source: [US Used Cars dataset (3 million)](https://www.kaggle.com/datasets/ananaymital/us-used-cars-dataset)\n"
   ]
  },
  {
   "cell_type": "code",
   "execution_count": 208,
   "metadata": {},
   "outputs": [],
   "source": [
    "import pandas as pd\n",
    "import numpy as np\n",
    "from collections import Counter\n",
    "import ast\n",
    "from sklearn.preprocessing import MinMaxScaler\n",
    "from sklearn.feature_selection import SelectKBest, f_regression\n",
    "from sklearn.experimental import enable_iterative_imputer\n",
    "from sklearn.impute import IterativeImputer"
   ]
  },
  {
   "cell_type": "markdown",
   "metadata": {},
   "source": [
    "### Data Loading"
   ]
  },
  {
   "cell_type": "code",
   "execution_count": 135,
   "metadata": {},
   "outputs": [
    {
     "name": "stderr",
     "output_type": "stream",
     "text": [
      "/var/folders/4k/9sv3rzqs4qj4yhs2xt5y1n240000gn/T/ipykernel_19339/3220119872.py:1: DtypeWarning: Columns (11) have mixed types. Specify dtype option on import or set low_memory=False.\n",
      "  data = pd.read_csv('/Users/gulsumasenacakir/Desktop/portfolio/UsedCarsML/used_cars_data.csv')\n"
     ]
    }
   ],
   "source": [
    "data = pd.read_csv('/Users/gulsumasenacakir/Desktop/portfolio/UsedCarsML/used_cars_data.csv')"
   ]
  },
  {
   "cell_type": "code",
   "execution_count": 136,
   "metadata": {},
   "outputs": [
    {
     "data": {
      "text/plain": [
       "(3000040, 66)"
      ]
     },
     "execution_count": 136,
     "metadata": {},
     "output_type": "execute_result"
    }
   ],
   "source": [
    "data.shape"
   ]
  },
  {
   "cell_type": "markdown",
   "metadata": {},
   "source": [
    "### Data Cleaning"
   ]
  },
  {
   "cell_type": "code",
   "execution_count": 137,
   "metadata": {},
   "outputs": [
    {
     "data": {
      "text/html": [
       "<div>\n",
       "<style scoped>\n",
       "    .dataframe tbody tr th:only-of-type {\n",
       "        vertical-align: middle;\n",
       "    }\n",
       "\n",
       "    .dataframe tbody tr th {\n",
       "        vertical-align: top;\n",
       "    }\n",
       "\n",
       "    .dataframe thead th {\n",
       "        text-align: right;\n",
       "    }\n",
       "</style>\n",
       "<table border=\"1\" class=\"dataframe\">\n",
       "  <thead>\n",
       "    <tr style=\"text-align: right;\">\n",
       "      <th></th>\n",
       "      <th>vin</th>\n",
       "      <th>back_legroom</th>\n",
       "      <th>bed</th>\n",
       "      <th>bed_height</th>\n",
       "      <th>bed_length</th>\n",
       "      <th>body_type</th>\n",
       "      <th>cabin</th>\n",
       "      <th>city</th>\n",
       "      <th>city_fuel_economy</th>\n",
       "      <th>combine_fuel_economy</th>\n",
       "      <th>...</th>\n",
       "      <th>transmission</th>\n",
       "      <th>transmission_display</th>\n",
       "      <th>trimId</th>\n",
       "      <th>trim_name</th>\n",
       "      <th>vehicle_damage_category</th>\n",
       "      <th>wheel_system</th>\n",
       "      <th>wheel_system_display</th>\n",
       "      <th>wheelbase</th>\n",
       "      <th>width</th>\n",
       "      <th>year</th>\n",
       "    </tr>\n",
       "  </thead>\n",
       "  <tbody>\n",
       "    <tr>\n",
       "      <th>0</th>\n",
       "      <td>ZACNJABB5KPJ92081</td>\n",
       "      <td>35.1 in</td>\n",
       "      <td>NaN</td>\n",
       "      <td>NaN</td>\n",
       "      <td>NaN</td>\n",
       "      <td>SUV / Crossover</td>\n",
       "      <td>NaN</td>\n",
       "      <td>Bayamon</td>\n",
       "      <td>NaN</td>\n",
       "      <td>NaN</td>\n",
       "      <td>...</td>\n",
       "      <td>A</td>\n",
       "      <td>9-Speed Automatic Overdrive</td>\n",
       "      <td>t83804</td>\n",
       "      <td>Latitude FWD</td>\n",
       "      <td>NaN</td>\n",
       "      <td>FWD</td>\n",
       "      <td>Front-Wheel Drive</td>\n",
       "      <td>101.2 in</td>\n",
       "      <td>79.6 in</td>\n",
       "      <td>2019</td>\n",
       "    </tr>\n",
       "    <tr>\n",
       "      <th>1</th>\n",
       "      <td>SALCJ2FX1LH858117</td>\n",
       "      <td>38.1 in</td>\n",
       "      <td>NaN</td>\n",
       "      <td>NaN</td>\n",
       "      <td>NaN</td>\n",
       "      <td>SUV / Crossover</td>\n",
       "      <td>NaN</td>\n",
       "      <td>San Juan</td>\n",
       "      <td>NaN</td>\n",
       "      <td>NaN</td>\n",
       "      <td>...</td>\n",
       "      <td>A</td>\n",
       "      <td>9-Speed Automatic Overdrive</td>\n",
       "      <td>t86759</td>\n",
       "      <td>S AWD</td>\n",
       "      <td>NaN</td>\n",
       "      <td>AWD</td>\n",
       "      <td>All-Wheel Drive</td>\n",
       "      <td>107.9 in</td>\n",
       "      <td>85.6 in</td>\n",
       "      <td>2020</td>\n",
       "    </tr>\n",
       "    <tr>\n",
       "      <th>2</th>\n",
       "      <td>JF1VA2M67G9829723</td>\n",
       "      <td>35.4 in</td>\n",
       "      <td>NaN</td>\n",
       "      <td>NaN</td>\n",
       "      <td>NaN</td>\n",
       "      <td>Sedan</td>\n",
       "      <td>NaN</td>\n",
       "      <td>Guaynabo</td>\n",
       "      <td>17.0</td>\n",
       "      <td>NaN</td>\n",
       "      <td>...</td>\n",
       "      <td>M</td>\n",
       "      <td>6-Speed Manual</td>\n",
       "      <td>t58994</td>\n",
       "      <td>Base</td>\n",
       "      <td>NaN</td>\n",
       "      <td>AWD</td>\n",
       "      <td>All-Wheel Drive</td>\n",
       "      <td>104.3 in</td>\n",
       "      <td>78.9 in</td>\n",
       "      <td>2016</td>\n",
       "    </tr>\n",
       "    <tr>\n",
       "      <th>3</th>\n",
       "      <td>SALRR2RV0L2433391</td>\n",
       "      <td>37.6 in</td>\n",
       "      <td>NaN</td>\n",
       "      <td>NaN</td>\n",
       "      <td>NaN</td>\n",
       "      <td>SUV / Crossover</td>\n",
       "      <td>NaN</td>\n",
       "      <td>San Juan</td>\n",
       "      <td>NaN</td>\n",
       "      <td>NaN</td>\n",
       "      <td>...</td>\n",
       "      <td>A</td>\n",
       "      <td>8-Speed Automatic Overdrive</td>\n",
       "      <td>t86074</td>\n",
       "      <td>V6 HSE AWD</td>\n",
       "      <td>NaN</td>\n",
       "      <td>AWD</td>\n",
       "      <td>All-Wheel Drive</td>\n",
       "      <td>115 in</td>\n",
       "      <td>87.4 in</td>\n",
       "      <td>2020</td>\n",
       "    </tr>\n",
       "    <tr>\n",
       "      <th>4</th>\n",
       "      <td>SALCJ2FXXLH862327</td>\n",
       "      <td>38.1 in</td>\n",
       "      <td>NaN</td>\n",
       "      <td>NaN</td>\n",
       "      <td>NaN</td>\n",
       "      <td>SUV / Crossover</td>\n",
       "      <td>NaN</td>\n",
       "      <td>San Juan</td>\n",
       "      <td>NaN</td>\n",
       "      <td>NaN</td>\n",
       "      <td>...</td>\n",
       "      <td>A</td>\n",
       "      <td>9-Speed Automatic Overdrive</td>\n",
       "      <td>t86759</td>\n",
       "      <td>S AWD</td>\n",
       "      <td>NaN</td>\n",
       "      <td>AWD</td>\n",
       "      <td>All-Wheel Drive</td>\n",
       "      <td>107.9 in</td>\n",
       "      <td>85.6 in</td>\n",
       "      <td>2020</td>\n",
       "    </tr>\n",
       "  </tbody>\n",
       "</table>\n",
       "<p>5 rows × 66 columns</p>\n",
       "</div>"
      ],
      "text/plain": [
       "                 vin back_legroom  bed bed_height bed_length        body_type  \\\n",
       "0  ZACNJABB5KPJ92081      35.1 in  NaN        NaN        NaN  SUV / Crossover   \n",
       "1  SALCJ2FX1LH858117      38.1 in  NaN        NaN        NaN  SUV / Crossover   \n",
       "2  JF1VA2M67G9829723      35.4 in  NaN        NaN        NaN            Sedan   \n",
       "3  SALRR2RV0L2433391      37.6 in  NaN        NaN        NaN  SUV / Crossover   \n",
       "4  SALCJ2FXXLH862327      38.1 in  NaN        NaN        NaN  SUV / Crossover   \n",
       "\n",
       "  cabin      city  city_fuel_economy  combine_fuel_economy  ...  transmission  \\\n",
       "0   NaN   Bayamon                NaN                   NaN  ...             A   \n",
       "1   NaN  San Juan                NaN                   NaN  ...             A   \n",
       "2   NaN  Guaynabo               17.0                   NaN  ...             M   \n",
       "3   NaN  San Juan                NaN                   NaN  ...             A   \n",
       "4   NaN  San Juan                NaN                   NaN  ...             A   \n",
       "\n",
       "          transmission_display  trimId     trim_name  vehicle_damage_category  \\\n",
       "0  9-Speed Automatic Overdrive  t83804  Latitude FWD                      NaN   \n",
       "1  9-Speed Automatic Overdrive  t86759         S AWD                      NaN   \n",
       "2               6-Speed Manual  t58994          Base                      NaN   \n",
       "3  8-Speed Automatic Overdrive  t86074    V6 HSE AWD                      NaN   \n",
       "4  9-Speed Automatic Overdrive  t86759         S AWD                      NaN   \n",
       "\n",
       "  wheel_system wheel_system_display wheelbase    width  year  \n",
       "0          FWD    Front-Wheel Drive  101.2 in  79.6 in  2019  \n",
       "1          AWD      All-Wheel Drive  107.9 in  85.6 in  2020  \n",
       "2          AWD      All-Wheel Drive  104.3 in  78.9 in  2016  \n",
       "3          AWD      All-Wheel Drive    115 in  87.4 in  2020  \n",
       "4          AWD      All-Wheel Drive  107.9 in  85.6 in  2020  \n",
       "\n",
       "[5 rows x 66 columns]"
      ]
     },
     "execution_count": 137,
     "metadata": {},
     "output_type": "execute_result"
    }
   ],
   "source": [
    "data.head()"
   ]
  },
  {
   "cell_type": "markdown",
   "metadata": {},
   "source": [
    "Some features have the occurrences of '--' and these occurrences are replaced with NaN values to standardize missing data representations."
   ]
  },
  {
   "cell_type": "code",
   "execution_count": 138,
   "metadata": {},
   "outputs": [],
   "source": [
    "df = data.replace('--', np.nan)"
   ]
  },
  {
   "cell_type": "markdown",
   "metadata": {},
   "source": [
    "The percentage of missing/null values for each feature are calculated. "
   ]
  },
  {
   "cell_type": "code",
   "execution_count": 139,
   "metadata": {},
   "outputs": [
    {
     "name": "stdout",
     "output_type": "stream",
     "text": [
      "bed_height                 100.000000\n",
      "vehicle_damage_category    100.000000\n",
      "combine_fuel_economy       100.000000\n",
      "is_certified               100.000000\n",
      "bed                         99.347742\n",
      "                              ...    \n",
      "franchise_dealer             0.000000\n",
      "dealer_zip                   0.000000\n",
      "daysonmarket                 0.000000\n",
      "city                         0.000000\n",
      "year                         0.000000\n",
      "Length: 66, dtype: float64\n"
     ]
    }
   ],
   "source": [
    "null_percentage = df.isnull().mean()*100\n",
    "null_percentage = null_percentage.sort_values(ascending=False)\n",
    "print(null_percentage)"
   ]
  },
  {
   "cell_type": "markdown",
   "metadata": {},
   "source": [
    "The number of unique values for each feature is calculated."
   ]
  },
  {
   "cell_type": "code",
   "execution_count": 140,
   "metadata": {},
   "outputs": [
    {
     "name": "stdout",
     "output_type": "stream",
     "text": [
      "                   Variable  Unique_Count\n",
      "0                       vin       3000000\n",
      "38               listing_id       3000000\n",
      "12              description       2519325\n",
      "40         main_picture_url       2415855\n",
      "41            major_options        279972\n",
      "..                      ...           ...\n",
      "33                is_oemcpo             1\n",
      "9      combine_fuel_economy             0\n",
      "60  vehicle_damage_category             0\n",
      "30             is_certified             0\n",
      "3                bed_height             0\n",
      "\n",
      "[66 rows x 2 columns]\n"
     ]
    }
   ],
   "source": [
    "unique_counts = {col: df[col].nunique() for col in df.columns}\n",
    "unique_counts_df = pd.DataFrame(list(unique_counts.items()), columns=['Variable', 'Unique_Count'])\n",
    "\n",
    "print(unique_counts_df.sort_values(by='Unique_Count', ascending=False))"
   ]
  },
  {
   "cell_type": "markdown",
   "metadata": {},
   "source": [
    "The columns/features that have more than 50% missing values and the highest numbers of unique values are removed."
   ]
  },
  {
   "cell_type": "code",
   "execution_count": 141,
   "metadata": {},
   "outputs": [],
   "source": [
    "df = df.drop(['vehicle_damage_category', 'combine_fuel_economy', 'is_certified', 'bed', 'bed_height', 'cabin',\n",
    "'bed_length', 'is_oemcpo', 'is_cpo', 'owner_count', 'description', 'vin', 'main_picture_url', 'listing_id'], axis=1)"
   ]
  },
  {
   "cell_type": "markdown",
   "metadata": {},
   "source": [
    "Given the high percentage of null values in the 'has_accidents' column and the difficulty in imputing them, the missing values have been removed."
   ]
  },
  {
   "cell_type": "code",
   "execution_count": 142,
   "metadata": {},
   "outputs": [
    {
     "name": "stdout",
     "output_type": "stream",
     "text": [
      "[47.55253263]\n"
     ]
    }
   ],
   "source": [
    "print(null_percentage[null_percentage.index == 'has_accidents'].values)"
   ]
  },
  {
   "cell_type": "code",
   "execution_count": 143,
   "metadata": {},
   "outputs": [],
   "source": [
    "df = df.dropna(subset=['has_accidents'])"
   ]
  },
  {
   "cell_type": "markdown",
   "metadata": {},
   "source": [
    "After removing the features with the highest number of unique values, I proceed to eliminate duplicates from the dataset."
   ]
  },
  {
   "cell_type": "code",
   "execution_count": 144,
   "metadata": {},
   "outputs": [],
   "source": [
    "df = df.drop_duplicates()"
   ]
  },
  {
   "cell_type": "markdown",
   "metadata": {},
   "source": [
    "The features 'transmission_display' and 'wheel_system_display' are similar with 'transmission' and 'wheel_system'. Therefore, these are removed."
   ]
  },
  {
   "cell_type": "code",
   "execution_count": 145,
   "metadata": {},
   "outputs": [],
   "source": [
    "df = df.drop(['transmission_display', 'wheel_system_display'], axis=1)"
   ]
  },
  {
   "cell_type": "markdown",
   "metadata": {},
   "source": [
    "The features 'engine_cylinders' and 'engine_type' are the same and 'engine_cylinders' is removed."
   ]
  },
  {
   "cell_type": "code",
   "execution_count": 146,
   "metadata": {},
   "outputs": [],
   "source": [
    "df = df.drop('engine_cylinders', axis=1)"
   ]
  },
  {
   "cell_type": "markdown",
   "metadata": {},
   "source": [
    "Since the definition of 'sp_id' is not known, it is removed. Moreover, the feature 'listing_color' is the dominant color of 'exterior_color'. That's why 'exterior_color' is removed. "
   ]
  },
  {
   "cell_type": "code",
   "execution_count": 147,
   "metadata": {},
   "outputs": [],
   "source": [
    "df = df.drop(['sp_id', 'exterior_color'], axis=1)"
   ]
  },
  {
   "cell_type": "markdown",
   "metadata": {},
   "source": [
    "The feature 'major_options' contains key car features such as Bluetooth and backup cameras, making it a crucial variable. Therefore, rows with missing values in this feature are removed from the dataset."
   ]
  },
  {
   "cell_type": "code",
   "execution_count": 148,
   "metadata": {},
   "outputs": [],
   "source": [
    "df = df.dropna(subset=['major_options'])"
   ]
  },
  {
   "cell_type": "markdown",
   "metadata": {},
   "source": [
    "The percentage of missing values for each feature left are recalculated."
   ]
  },
  {
   "cell_type": "code",
   "execution_count": 149,
   "metadata": {},
   "outputs": [
    {
     "name": "stdout",
     "output_type": "stream",
     "text": [
      "franchise_make          34.885174\n",
      "city_fuel_economy       14.817178\n",
      "highway_fuel_economy    14.817178\n",
      "interior_color          14.561728\n",
      "torque                  12.122195\n",
      "power                   10.365084\n",
      "back_legroom             6.051339\n",
      "front_legroom            4.087203\n",
      "fuel_tank_volume         3.492641\n",
      "maximum_seating          3.475588\n",
      "height                   3.475055\n",
      "width                    3.474722\n",
      "length                   3.474523\n",
      "wheelbase                3.473324\n",
      "horsepower               3.321452\n",
      "engine_displacement      3.321452\n",
      "wheel_system             2.529057\n",
      "engine_type              2.203666\n",
      "trim_name                2.181818\n",
      "trimId                   2.162168\n",
      "fuel_type                1.733664\n",
      "seller_rating            1.658328\n",
      "transmission             1.485142\n",
      "mileage                  1.099335\n",
      "body_type                0.063613\n",
      "daysonmarket             0.000000\n",
      "theft_title              0.000000\n",
      "sp_name                  0.000000\n",
      "savings_amount           0.000000\n",
      "price                    0.000000\n",
      "city                     0.000000\n",
      "salvage                  0.000000\n",
      "franchise_dealer         0.000000\n",
      "dealer_zip               0.000000\n",
      "model_name               0.000000\n",
      "make_name                0.000000\n",
      "major_options            0.000000\n",
      "longitude                0.000000\n",
      "listing_color            0.000000\n",
      "listed_date              0.000000\n",
      "latitude                 0.000000\n",
      "is_new                   0.000000\n",
      "isCab                    0.000000\n",
      "fleet                    0.000000\n",
      "frame_damaged            0.000000\n",
      "has_accidents            0.000000\n",
      "year                     0.000000\n",
      "dtype: float64\n"
     ]
    }
   ],
   "source": [
    "new_percentage = df.isnull().mean()*100\n",
    "new_percentage = new_percentage.sort_values(ascending=False)\n",
    "print(new_percentage)"
   ]
  },
  {
   "cell_type": "markdown",
   "metadata": {},
   "source": [
    "There are some features which have unit labels ('in' for inches, 'gal' for gallons, 'seats') at the end of values. These labels are removed and the features are converted the modified strings into floats for numerical analysis."
   ]
  },
  {
   "cell_type": "code",
   "execution_count": 150,
   "metadata": {},
   "outputs": [],
   "source": [
    "df['back_legroom'] = df['back_legroom'].str.replace(r'\\s*in$', '', regex=True).astype(float)\n",
    "df['front_legroom'] = df['front_legroom'].str.replace(r'\\s*in$', '', regex=True).astype(float)\n",
    "df['width'] = df['width'].str.replace(r'\\s*in$', '', regex=True).astype(float)\n",
    "df['wheelbase'] = df['wheelbase'].str.replace(r'\\s*in$', '', regex=True).astype(float)\n",
    "df['height'] = df['height'].str.replace(r'\\s*in$', '', regex=True).astype(float)\n",
    "df['length'] = df['length'].str.replace(r'\\s*in$', '', regex=True).astype(float)\n",
    "df['fuel_tank_volume'] = df['fuel_tank_volume'].str.replace(r'\\s*gal$', '', regex=True).astype(float)\n",
    "df['maximum_seating'] = df['maximum_seating'].str.replace(r'\\s*seats$', '', regex=True).astype(float)"
   ]
  },
  {
   "cell_type": "code",
   "execution_count": 151,
   "metadata": {},
   "outputs": [
    {
     "data": {
      "text/html": [
       "<div>\n",
       "<style scoped>\n",
       "    .dataframe tbody tr th:only-of-type {\n",
       "        vertical-align: middle;\n",
       "    }\n",
       "\n",
       "    .dataframe tbody tr th {\n",
       "        vertical-align: top;\n",
       "    }\n",
       "\n",
       "    .dataframe thead th {\n",
       "        text-align: right;\n",
       "    }\n",
       "</style>\n",
       "<table border=\"1\" class=\"dataframe\">\n",
       "  <thead>\n",
       "    <tr style=\"text-align: right;\">\n",
       "      <th></th>\n",
       "      <th>back_legroom</th>\n",
       "      <th>body_type</th>\n",
       "      <th>city</th>\n",
       "      <th>city_fuel_economy</th>\n",
       "      <th>daysonmarket</th>\n",
       "      <th>dealer_zip</th>\n",
       "      <th>engine_displacement</th>\n",
       "      <th>engine_type</th>\n",
       "      <th>fleet</th>\n",
       "      <th>frame_damaged</th>\n",
       "      <th>...</th>\n",
       "      <th>sp_name</th>\n",
       "      <th>theft_title</th>\n",
       "      <th>torque</th>\n",
       "      <th>transmission</th>\n",
       "      <th>trimId</th>\n",
       "      <th>trim_name</th>\n",
       "      <th>wheel_system</th>\n",
       "      <th>wheelbase</th>\n",
       "      <th>width</th>\n",
       "      <th>year</th>\n",
       "    </tr>\n",
       "  </thead>\n",
       "  <tbody>\n",
       "    <tr>\n",
       "      <th>2</th>\n",
       "      <td>35.4</td>\n",
       "      <td>Sedan</td>\n",
       "      <td>Guaynabo</td>\n",
       "      <td>17.0</td>\n",
       "      <td>1233</td>\n",
       "      <td>969</td>\n",
       "      <td>2500.0</td>\n",
       "      <td>H4</td>\n",
       "      <td>False</td>\n",
       "      <td>False</td>\n",
       "      <td>...</td>\n",
       "      <td>FIAT de San Juan</td>\n",
       "      <td>False</td>\n",
       "      <td>290 lb-ft @ 4,000 RPM</td>\n",
       "      <td>M</td>\n",
       "      <td>t58994</td>\n",
       "      <td>Base</td>\n",
       "      <td>AWD</td>\n",
       "      <td>104.3</td>\n",
       "      <td>78.9</td>\n",
       "      <td>2016</td>\n",
       "    </tr>\n",
       "    <tr>\n",
       "      <th>5</th>\n",
       "      <td>37.1</td>\n",
       "      <td>SUV / Crossover</td>\n",
       "      <td>San Juan</td>\n",
       "      <td>NaN</td>\n",
       "      <td>242</td>\n",
       "      <td>922</td>\n",
       "      <td>2000.0</td>\n",
       "      <td>I4</td>\n",
       "      <td>False</td>\n",
       "      <td>False</td>\n",
       "      <td>...</td>\n",
       "      <td>Land Rover San Juan</td>\n",
       "      <td>False</td>\n",
       "      <td>269 lb-ft @ 1,200 RPM</td>\n",
       "      <td>A</td>\n",
       "      <td>t85614</td>\n",
       "      <td>P250 R-Dynamic S AWD</td>\n",
       "      <td>AWD</td>\n",
       "      <td>113.1</td>\n",
       "      <td>84.4</td>\n",
       "      <td>2020</td>\n",
       "    </tr>\n",
       "    <tr>\n",
       "      <th>9</th>\n",
       "      <td>33.8</td>\n",
       "      <td>SUV / Crossover</td>\n",
       "      <td>San Juan</td>\n",
       "      <td>NaN</td>\n",
       "      <td>510</td>\n",
       "      <td>922</td>\n",
       "      <td>2000.0</td>\n",
       "      <td>I4</td>\n",
       "      <td>False</td>\n",
       "      <td>False</td>\n",
       "      <td>...</td>\n",
       "      <td>Land Rover San Juan</td>\n",
       "      <td>False</td>\n",
       "      <td>295 lb-ft @ 1,600 RPM</td>\n",
       "      <td>A</td>\n",
       "      <td>t85531</td>\n",
       "      <td>P300 R-Dynamic SE AWD</td>\n",
       "      <td>AWD</td>\n",
       "      <td>105.6</td>\n",
       "      <td>82.7</td>\n",
       "      <td>2020</td>\n",
       "    </tr>\n",
       "    <tr>\n",
       "      <th>10</th>\n",
       "      <td>NaN</td>\n",
       "      <td>Coupe</td>\n",
       "      <td>Guaynabo</td>\n",
       "      <td>NaN</td>\n",
       "      <td>1252</td>\n",
       "      <td>969</td>\n",
       "      <td>1700.0</td>\n",
       "      <td>I4</td>\n",
       "      <td>False</td>\n",
       "      <td>False</td>\n",
       "      <td>...</td>\n",
       "      <td>FIAT de San Juan</td>\n",
       "      <td>False</td>\n",
       "      <td>258 lb-ft @ 4,250 RPM</td>\n",
       "      <td>A</td>\n",
       "      <td>t56834</td>\n",
       "      <td>Launch Edition Coupe RWD</td>\n",
       "      <td>RWD</td>\n",
       "      <td>93.7</td>\n",
       "      <td>73.5</td>\n",
       "      <td>2015</td>\n",
       "    </tr>\n",
       "    <tr>\n",
       "      <th>12</th>\n",
       "      <td>35.1</td>\n",
       "      <td>Sedan</td>\n",
       "      <td>Guaynabo</td>\n",
       "      <td>22.0</td>\n",
       "      <td>1233</td>\n",
       "      <td>969</td>\n",
       "      <td>3000.0</td>\n",
       "      <td>I6</td>\n",
       "      <td>False</td>\n",
       "      <td>False</td>\n",
       "      <td>...</td>\n",
       "      <td>FIAT de San Juan</td>\n",
       "      <td>False</td>\n",
       "      <td>330 lb-ft @ 1,380 RPM</td>\n",
       "      <td>A</td>\n",
       "      <td>t58802</td>\n",
       "      <td>340i xDrive Sedan AWD</td>\n",
       "      <td>AWD</td>\n",
       "      <td>110.6</td>\n",
       "      <td>80.0</td>\n",
       "      <td>2016</td>\n",
       "    </tr>\n",
       "  </tbody>\n",
       "</table>\n",
       "<p>5 rows × 47 columns</p>\n",
       "</div>"
      ],
      "text/plain": [
       "    back_legroom        body_type      city  city_fuel_economy  daysonmarket  \\\n",
       "2           35.4            Sedan  Guaynabo               17.0          1233   \n",
       "5           37.1  SUV / Crossover  San Juan                NaN           242   \n",
       "9           33.8  SUV / Crossover  San Juan                NaN           510   \n",
       "10           NaN            Coupe  Guaynabo                NaN          1252   \n",
       "12          35.1            Sedan  Guaynabo               22.0          1233   \n",
       "\n",
       "   dealer_zip  engine_displacement engine_type  fleet frame_damaged  ...  \\\n",
       "2         969               2500.0          H4  False         False  ...   \n",
       "5         922               2000.0          I4  False         False  ...   \n",
       "9         922               2000.0          I4  False         False  ...   \n",
       "10        969               1700.0          I4  False         False  ...   \n",
       "12        969               3000.0          I6  False         False  ...   \n",
       "\n",
       "                sp_name theft_title                 torque  transmission  \\\n",
       "2      FIAT de San Juan       False  290 lb-ft @ 4,000 RPM             M   \n",
       "5   Land Rover San Juan       False  269 lb-ft @ 1,200 RPM             A   \n",
       "9   Land Rover San Juan       False  295 lb-ft @ 1,600 RPM             A   \n",
       "10     FIAT de San Juan       False  258 lb-ft @ 4,250 RPM             A   \n",
       "12     FIAT de San Juan       False  330 lb-ft @ 1,380 RPM             A   \n",
       "\n",
       "    trimId                 trim_name  wheel_system  wheelbase  width  year  \n",
       "2   t58994                      Base           AWD      104.3   78.9  2016  \n",
       "5   t85614      P250 R-Dynamic S AWD           AWD      113.1   84.4  2020  \n",
       "9   t85531     P300 R-Dynamic SE AWD           AWD      105.6   82.7  2020  \n",
       "10  t56834  Launch Edition Coupe RWD           RWD       93.7   73.5  2015  \n",
       "12  t58802     340i xDrive Sedan AWD           AWD      110.6   80.0  2016  \n",
       "\n",
       "[5 rows x 47 columns]"
      ]
     },
     "execution_count": 151,
     "metadata": {},
     "output_type": "execute_result"
    }
   ],
   "source": [
    "df.head()"
   ]
  },
  {
   "cell_type": "code",
   "execution_count": 152,
   "metadata": {},
   "outputs": [],
   "source": [
    "df = df.dropna(subset=['franchise_make'])"
   ]
  },
  {
   "cell_type": "code",
   "execution_count": 153,
   "metadata": {},
   "outputs": [
    {
     "name": "stdout",
     "output_type": "stream",
     "text": [
      "city_fuel_economy       14.360391\n",
      "highway_fuel_economy    14.360391\n",
      "interior_color          13.986599\n",
      "torque                  12.714951\n",
      "power                   11.088742\n",
      "back_legroom             5.031865\n",
      "front_legroom            3.604828\n",
      "fuel_tank_volume         3.066953\n",
      "maximum_seating          3.063270\n",
      "height                   3.063066\n",
      "length                   3.062861\n",
      "width                    3.062759\n",
      "wheelbase                3.062350\n",
      "horsepower               3.051302\n",
      "engine_displacement      3.051302\n",
      "wheel_system             2.486113\n",
      "trim_name                2.211242\n",
      "trimId                   2.199376\n",
      "engine_type              1.720628\n",
      "transmission             1.612296\n",
      "fuel_type                1.367091\n",
      "mileage                  1.363818\n",
      "seller_rating            0.985116\n",
      "body_type                0.067413\n",
      "salvage                  0.000000\n",
      "savings_amount           0.000000\n",
      "franchise_make           0.000000\n",
      "sp_name                  0.000000\n",
      "theft_title              0.000000\n",
      "city                     0.000000\n",
      "daysonmarket             0.000000\n",
      "price                    0.000000\n",
      "dealer_zip               0.000000\n",
      "model_name               0.000000\n",
      "franchise_dealer         0.000000\n",
      "make_name                0.000000\n",
      "major_options            0.000000\n",
      "longitude                0.000000\n",
      "listing_color            0.000000\n",
      "listed_date              0.000000\n",
      "latitude                 0.000000\n",
      "is_new                   0.000000\n",
      "isCab                    0.000000\n",
      "fleet                    0.000000\n",
      "has_accidents            0.000000\n",
      "frame_damaged            0.000000\n",
      "year                     0.000000\n",
      "dtype: float64\n"
     ]
    }
   ],
   "source": [
    "new_percentage = df.isnull().mean()*100\n",
    "new_percentage = new_percentage.sort_values(ascending=False)\n",
    "print(new_percentage)"
   ]
  },
  {
   "cell_type": "code",
   "execution_count": 154,
   "metadata": {},
   "outputs": [
    {
     "data": {
      "text/plain": [
       "15894"
      ]
     },
     "execution_count": 154,
     "metadata": {},
     "output_type": "execute_result"
    }
   ],
   "source": [
    "df['interior_color'].nunique()"
   ]
  },
  {
   "cell_type": "markdown",
   "metadata": {},
   "source": [
    "In the raw dataset, there are three color-related features: exterior_color, interior_color, and listing_color. I plan to remove the exterior_color feature, as the listing color represents the dominant exterior color group, making it redundant. Furthermore, the interior_color feature will also be removed due to its high cardinality, with 15,894 unique values, which would require significant preprocessing and feature engineering to be useful for analysis."
   ]
  },
  {
   "cell_type": "code",
   "execution_count": 155,
   "metadata": {},
   "outputs": [],
   "source": [
    "df = df.drop('interior_color', axis=1)"
   ]
  },
  {
   "cell_type": "markdown",
   "metadata": {},
   "source": [
    "## Imputation"
   ]
  },
  {
   "cell_type": "markdown",
   "metadata": {},
   "source": [
    "Before determining the approach for features with missing value percentages exceeding 10%, I first apply mean imputation to numerical columns and mode imputation to categorical columns with lower percentages of missing values."
   ]
  },
  {
   "cell_type": "code",
   "execution_count": 156,
   "metadata": {},
   "outputs": [
    {
     "name": "stdout",
     "output_type": "stream",
     "text": [
      "Numeric columns: Index(['back_legroom', 'city_fuel_economy', 'daysonmarket',\n",
      "       'engine_displacement', 'front_legroom', 'fuel_tank_volume', 'height',\n",
      "       'highway_fuel_economy', 'horsepower', 'latitude', 'length', 'longitude',\n",
      "       'maximum_seating', 'mileage', 'price', 'savings_amount',\n",
      "       'seller_rating', 'wheelbase', 'width', 'year'],\n",
      "      dtype='object')\n",
      "Categorical columns: Index(['body_type', 'city', 'dealer_zip', 'engine_type', 'fleet',\n",
      "       'frame_damaged', 'franchise_make', 'fuel_type', 'has_accidents',\n",
      "       'isCab', 'listed_date', 'listing_color', 'major_options', 'make_name',\n",
      "       'model_name', 'power', 'salvage', 'sp_name', 'theft_title', 'torque',\n",
      "       'transmission', 'trimId', 'trim_name', 'wheel_system'],\n",
      "      dtype='object')\n",
      "Boolen columns: Index(['franchise_dealer', 'is_new'], dtype='object')\n"
     ]
    }
   ],
   "source": [
    "numeric_columns = df.select_dtypes(include=['number']).columns\n",
    "print('Numeric columns:', numeric_columns)\n",
    "categorical_columns = df.select_dtypes(include=['object', 'category']).columns\n",
    "print('Categorical columns:', categorical_columns)\n",
    "bool_columns = df.select_dtypes(include=['bool']).columns\n",
    "print('Boolen columns:', bool_columns)"
   ]
  },
  {
   "cell_type": "markdown",
   "metadata": {},
   "source": [
    "### Mean imputation"
   ]
  },
  {
   "cell_type": "markdown",
   "metadata": {},
   "source": [
    "The missing values of numerical columns are filled by using the mean."
   ]
  },
  {
   "cell_type": "code",
   "execution_count": 157,
   "metadata": {},
   "outputs": [],
   "source": [
    "for col in ['back_legroom', 'seller_rating', 'mileage', 'fuel_tank_volume', 'front_legroom', 'maximum_seating', 'height', 'width', 'wheelbase', 'length', 'horsepower', 'engine_displacement']:\n",
    "    df[col] = df[col].fillna(df[col].mean()) ## there is no seller id "
   ]
  },
  {
   "cell_type": "markdown",
   "metadata": {},
   "source": [
    "### Mod imputation"
   ]
  },
  {
   "cell_type": "markdown",
   "metadata": {},
   "source": [
    "Before filling missing values of categorical columns, their unique values are calculated."
   ]
  },
  {
   "cell_type": "code",
   "execution_count": 158,
   "metadata": {},
   "outputs": [
    {
     "name": "stdout",
     "output_type": "stream",
     "text": [
      "          Variable  Unique_Count\n",
      "12   major_options        136597\n",
      "21          trimId         28911\n",
      "17         sp_name         12829\n",
      "22       trim_name          6434\n",
      "2       dealer_zip          5646\n",
      "1             city          3257\n",
      "15           power          1654\n",
      "19          torque          1634\n",
      "10     listed_date          1358\n",
      "14      model_name           982\n",
      "13       make_name            60\n",
      "6   franchise_make            48\n",
      "3      engine_type            34\n",
      "11   listing_color            15\n",
      "0        body_type             9\n",
      "7        fuel_type             8\n",
      "23    wheel_system             5\n",
      "20    transmission             4\n",
      "9            isCab             2\n",
      "16         salvage             2\n",
      "8    has_accidents             2\n",
      "18     theft_title             2\n",
      "5    frame_damaged             2\n",
      "4            fleet             2\n"
     ]
    }
   ],
   "source": [
    "unique_values_cat = {col: df[col].nunique() for col in categorical_columns}\n",
    "\n",
    "unique_values_cat = pd.DataFrame(list(unique_values_cat.items()), columns=['Variable', 'Unique_Count'])\n",
    "print(unique_values_cat.sort_values(by = 'Unique_Count', ascending=False))"
   ]
  },
  {
   "cell_type": "markdown",
   "metadata": {},
   "source": [
    "Since 'trim_name' and 'trimId' have large number unique values, they are removed."
   ]
  },
  {
   "cell_type": "code",
   "execution_count": 159,
   "metadata": {},
   "outputs": [],
   "source": [
    "df = df.drop(['trim_name', 'trimId'], axis=1)"
   ]
  },
  {
   "cell_type": "markdown",
   "metadata": {},
   "source": [
    "The missing values of categorical columns are filled by using the mod."
   ]
  },
  {
   "cell_type": "code",
   "execution_count": 160,
   "metadata": {},
   "outputs": [],
   "source": [
    "for col in ['body_type', 'fuel_type', 'engine_type', 'wheel_system', 'transmission']:\n",
    "    most_common = df[col].mode()[0]  # Mod \n",
    "    df[col] = df[col].fillna(most_common)"
   ]
  },
  {
   "cell_type": "markdown",
   "metadata": {},
   "source": [
    "### Multiple imputation"
   ]
  },
  {
   "cell_type": "code",
   "execution_count": 161,
   "metadata": {},
   "outputs": [
    {
     "name": "stdout",
     "output_type": "stream",
     "text": [
      "city_fuel_economy       14.360391\n",
      "highway_fuel_economy    14.360391\n",
      "power                   11.088742\n",
      "torque                  12.714951\n",
      "dtype: float64\n"
     ]
    }
   ],
   "source": [
    "new_percentage_df = df.isnull().mean()*100\n",
    "print(new_percentage_df[new_percentage_df.values > 0]) # features with missing values"
   ]
  },
  {
   "cell_type": "code",
   "execution_count": 162,
   "metadata": {},
   "outputs": [
    {
     "data": {
      "text/html": [
       "<div>\n",
       "<style scoped>\n",
       "    .dataframe tbody tr th:only-of-type {\n",
       "        vertical-align: middle;\n",
       "    }\n",
       "\n",
       "    .dataframe tbody tr th {\n",
       "        vertical-align: top;\n",
       "    }\n",
       "\n",
       "    .dataframe thead th {\n",
       "        text-align: right;\n",
       "    }\n",
       "</style>\n",
       "<table border=\"1\" class=\"dataframe\">\n",
       "  <thead>\n",
       "    <tr style=\"text-align: right;\">\n",
       "      <th></th>\n",
       "      <th>city_fuel_economy</th>\n",
       "      <th>highway_fuel_economy</th>\n",
       "      <th>power</th>\n",
       "      <th>torque</th>\n",
       "    </tr>\n",
       "  </thead>\n",
       "  <tbody>\n",
       "    <tr>\n",
       "      <th>2</th>\n",
       "      <td>17.0</td>\n",
       "      <td>23.0</td>\n",
       "      <td>305 hp @ 6,000 RPM</td>\n",
       "      <td>290 lb-ft @ 4,000 RPM</td>\n",
       "    </tr>\n",
       "    <tr>\n",
       "      <th>5</th>\n",
       "      <td>NaN</td>\n",
       "      <td>NaN</td>\n",
       "      <td>247 hp @ 5,500 RPM</td>\n",
       "      <td>269 lb-ft @ 1,200 RPM</td>\n",
       "    </tr>\n",
       "    <tr>\n",
       "      <th>9</th>\n",
       "      <td>NaN</td>\n",
       "      <td>NaN</td>\n",
       "      <td>296 hp @ 5,500 RPM</td>\n",
       "      <td>295 lb-ft @ 1,600 RPM</td>\n",
       "    </tr>\n",
       "    <tr>\n",
       "      <th>10</th>\n",
       "      <td>NaN</td>\n",
       "      <td>NaN</td>\n",
       "      <td>237 hp @ 6,000 RPM</td>\n",
       "      <td>258 lb-ft @ 4,250 RPM</td>\n",
       "    </tr>\n",
       "    <tr>\n",
       "      <th>12</th>\n",
       "      <td>22.0</td>\n",
       "      <td>33.0</td>\n",
       "      <td>320 hp @ 5,500 RPM</td>\n",
       "      <td>330 lb-ft @ 1,380 RPM</td>\n",
       "    </tr>\n",
       "  </tbody>\n",
       "</table>\n",
       "</div>"
      ],
      "text/plain": [
       "    city_fuel_economy  highway_fuel_economy               power  \\\n",
       "2                17.0                  23.0  305 hp @ 6,000 RPM   \n",
       "5                 NaN                   NaN  247 hp @ 5,500 RPM   \n",
       "9                 NaN                   NaN  296 hp @ 5,500 RPM   \n",
       "10                NaN                   NaN  237 hp @ 6,000 RPM   \n",
       "12               22.0                  33.0  320 hp @ 5,500 RPM   \n",
       "\n",
       "                   torque  \n",
       "2   290 lb-ft @ 4,000 RPM  \n",
       "5   269 lb-ft @ 1,200 RPM  \n",
       "9   295 lb-ft @ 1,600 RPM  \n",
       "10  258 lb-ft @ 4,250 RPM  \n",
       "12  330 lb-ft @ 1,380 RPM  "
      ]
     },
     "execution_count": 162,
     "metadata": {},
     "output_type": "execute_result"
    }
   ],
   "source": [
    "missing_values_columns = df[['city_fuel_economy', 'highway_fuel_economy', 'power', 'torque']]\n",
    "missing_values_columns.head(5)"
   ]
  },
  {
   "cell_type": "markdown",
   "metadata": {},
   "source": [
    "The features 'city_fuel_economy' and 'highway_fuel_economy' are numerical columns. The features 'power' and 'torque' are of mixed type. For example, the feature 'power' contains values formatted like '395 hp @ 5,600 RPM'. To simplify analysis, I separate this column into two columns: one for horsepower and another for RPM. Moreover, the feature 'torque' contains values formatted like '258 lb-ft @ 1,500 RPM'. I separate this column into two columns: one for lb-ft and another for torque RPM."
   ]
  },
  {
   "cell_type": "code",
   "execution_count": 163,
   "metadata": {},
   "outputs": [],
   "source": [
    "df[['hp', 'RPM']] = df['power'].str.split('@', expand=True)\n",
    "df['hp'] = df['hp'].str.extract('(\\d+)')\n",
    "df['RPM'] = df['RPM'].str.extract('(\\d+)')"
   ]
  },
  {
   "cell_type": "code",
   "execution_count": 164,
   "metadata": {},
   "outputs": [
    {
     "data": {
      "text/plain": [
       "hp     object\n",
       "RPM    object\n",
       "dtype: object"
      ]
     },
     "execution_count": 164,
     "metadata": {},
     "output_type": "execute_result"
    }
   ],
   "source": [
    "df[['hp', 'RPM']].dtypes"
   ]
  },
  {
   "cell_type": "code",
   "execution_count": 165,
   "metadata": {},
   "outputs": [],
   "source": [
    "df['hp'] = pd.to_numeric(df['hp'], errors='coerce')\n",
    "df['RPM'] = pd.to_numeric(df['RPM'], errors='coerce')"
   ]
  },
  {
   "cell_type": "code",
   "execution_count": 166,
   "metadata": {},
   "outputs": [],
   "source": [
    "df[['torque_value', 'torque_rpm']] = df['torque'].str.split(' @ ', expand=True)\n",
    "df['torque_value'] = df['torque_value'].str.extract('(\\d+)')\n",
    "df['torque_rpm'] = df['torque_rpm'].str.extract('(\\d+)')"
   ]
  },
  {
   "cell_type": "code",
   "execution_count": 167,
   "metadata": {},
   "outputs": [
    {
     "data": {
      "text/plain": [
       "torque_value    object\n",
       "torque_rpm      object\n",
       "dtype: object"
      ]
     },
     "execution_count": 167,
     "metadata": {},
     "output_type": "execute_result"
    }
   ],
   "source": [
    "df[['torque_value', 'torque_rpm']].dtypes"
   ]
  },
  {
   "cell_type": "code",
   "execution_count": 168,
   "metadata": {},
   "outputs": [],
   "source": [
    "df['torque_value'] = pd.to_numeric(df['torque_value'], errors='coerce')\n",
    "df['torque_rpm'] = pd.to_numeric(df['torque_rpm'], errors='coerce')"
   ]
  },
  {
   "cell_type": "code",
   "execution_count": 169,
   "metadata": {},
   "outputs": [
    {
     "data": {
      "text/html": [
       "<div>\n",
       "<style scoped>\n",
       "    .dataframe tbody tr th:only-of-type {\n",
       "        vertical-align: middle;\n",
       "    }\n",
       "\n",
       "    .dataframe tbody tr th {\n",
       "        vertical-align: top;\n",
       "    }\n",
       "\n",
       "    .dataframe thead th {\n",
       "        text-align: right;\n",
       "    }\n",
       "</style>\n",
       "<table border=\"1\" class=\"dataframe\">\n",
       "  <thead>\n",
       "    <tr style=\"text-align: right;\">\n",
       "      <th></th>\n",
       "      <th>horsepower</th>\n",
       "      <th>hp</th>\n",
       "    </tr>\n",
       "  </thead>\n",
       "  <tbody>\n",
       "    <tr>\n",
       "      <th>2</th>\n",
       "      <td>305.0</td>\n",
       "      <td>305.0</td>\n",
       "    </tr>\n",
       "    <tr>\n",
       "      <th>5</th>\n",
       "      <td>247.0</td>\n",
       "      <td>247.0</td>\n",
       "    </tr>\n",
       "    <tr>\n",
       "      <th>9</th>\n",
       "      <td>296.0</td>\n",
       "      <td>296.0</td>\n",
       "    </tr>\n",
       "    <tr>\n",
       "      <th>10</th>\n",
       "      <td>237.0</td>\n",
       "      <td>237.0</td>\n",
       "    </tr>\n",
       "    <tr>\n",
       "      <th>12</th>\n",
       "      <td>320.0</td>\n",
       "      <td>320.0</td>\n",
       "    </tr>\n",
       "    <tr>\n",
       "      <th>23</th>\n",
       "      <td>246.0</td>\n",
       "      <td>246.0</td>\n",
       "    </tr>\n",
       "    <tr>\n",
       "      <th>36</th>\n",
       "      <td>201.0</td>\n",
       "      <td>201.0</td>\n",
       "    </tr>\n",
       "    <tr>\n",
       "      <th>38</th>\n",
       "      <td>160.0</td>\n",
       "      <td>160.0</td>\n",
       "    </tr>\n",
       "    <tr>\n",
       "      <th>40</th>\n",
       "      <td>311.0</td>\n",
       "      <td>311.0</td>\n",
       "    </tr>\n",
       "    <tr>\n",
       "      <th>41</th>\n",
       "      <td>310.0</td>\n",
       "      <td>310.0</td>\n",
       "    </tr>\n",
       "  </tbody>\n",
       "</table>\n",
       "</div>"
      ],
      "text/plain": [
       "    horsepower     hp\n",
       "2        305.0  305.0\n",
       "5        247.0  247.0\n",
       "9        296.0  296.0\n",
       "10       237.0  237.0\n",
       "12       320.0  320.0\n",
       "23       246.0  246.0\n",
       "36       201.0  201.0\n",
       "38       160.0  160.0\n",
       "40       311.0  311.0\n",
       "41       310.0  310.0"
      ]
     },
     "execution_count": 169,
     "metadata": {},
     "output_type": "execute_result"
    }
   ],
   "source": [
    "df[['horsepower', 'hp']].head(10)"
   ]
  },
  {
   "cell_type": "markdown",
   "metadata": {},
   "source": [
    "The features 'horsepower' and 'hp' are the same. Therefore, the feature 'hp' is removed as well as the features 'power' and 'torque'."
   ]
  },
  {
   "cell_type": "code",
   "execution_count": 170,
   "metadata": {},
   "outputs": [],
   "source": [
    "df = df.drop(['torque', 'hp', 'power'], axis=1) "
   ]
  },
  {
   "cell_type": "code",
   "execution_count": 171,
   "metadata": {},
   "outputs": [
    {
     "name": "stdout",
     "output_type": "stream",
     "text": [
      "city_fuel_economy       14.360391\n",
      "highway_fuel_economy    14.360391\n",
      "RPM                     11.088742\n",
      "torque_value            12.714951\n",
      "torque_rpm              12.714951\n",
      "dtype: float64\n"
     ]
    }
   ],
   "source": [
    "new_percentage_df = df.isnull().mean()*100\n",
    "print(new_percentage_df[new_percentage_df.values > 0]) # features with missing values"
   ]
  },
  {
   "cell_type": "code",
   "execution_count": 172,
   "metadata": {},
   "outputs": [
    {
     "name": "stderr",
     "output_type": "stream",
     "text": [
      "/Users/gulsumasenacakir/anaconda3/lib/python3.11/site-packages/sklearn/impute/_iterative.py:796: ConvergenceWarning: [IterativeImputer] Early stopping criterion not reached.\n",
      "  warnings.warn(\n"
     ]
    }
   ],
   "source": [
    "imputer = IterativeImputer()\n",
    "columns_to_multiple_impute = ['city_fuel_economy', 'highway_fuel_economy', 'RPM', 'torque_value', 'torque_rpm']\n",
    "imputed_data = imputer.fit_transform(df[columns_to_multiple_impute])\n",
    "df[columns_to_multiple_impute] = imputed_data"
   ]
  },
  {
   "cell_type": "markdown",
   "metadata": {},
   "source": [
    "The only feature with missing values is interior_color"
   ]
  },
  {
   "cell_type": "code",
   "execution_count": 173,
   "metadata": {},
   "outputs": [
    {
     "name": "stdout",
     "output_type": "stream",
     "text": [
      "Series([], dtype: float64)\n"
     ]
    }
   ],
   "source": [
    "new_percentage_df = df.isnull().mean()*100\n",
    "print(new_percentage_df[new_percentage_df.values > 0])"
   ]
  },
  {
   "cell_type": "markdown",
   "metadata": {},
   "source": [
    "## Columns with Boolean Values"
   ]
  },
  {
   "cell_type": "markdown",
   "metadata": {},
   "source": [
    "Boolean values in specified columns are converted into integers (0 or 1)"
   ]
  },
  {
   "cell_type": "code",
   "execution_count": 174,
   "metadata": {},
   "outputs": [],
   "source": [
    "for col in bool_columns:\n",
    "    df[col] = df[col].astype(int)"
   ]
  },
  {
   "cell_type": "markdown",
   "metadata": {},
   "source": [
    "## One-hot encoding"
   ]
  },
  {
   "cell_type": "markdown",
   "metadata": {},
   "source": [
    "To manage the dimensionality of the dataset when applying one-hot encoding, I first identify the most frequent categories for each categorical variable and label all remaining categories as 'Other'. This reduction of categories simplifies the dataset, ensuring that only the most impactful categories are included. "
   ]
  },
  {
   "cell_type": "code",
   "execution_count": 175,
   "metadata": {},
   "outputs": [
    {
     "name": "stdout",
     "output_type": "stream",
     "text": [
      "            Category  Percentage      Variable\n",
      "0    SUV / Crossover   46.688763     body_type\n",
      "1              Sedan   27.490052     body_type\n",
      "2       Pickup Truck   13.784563     body_type\n",
      "3          Hatchback    2.879444     body_type\n",
      "4            Minivan    2.868600     body_type\n",
      "..               ...         ...           ...\n",
      "133              FWD   45.182855  wheel_system\n",
      "134              AWD   25.331185  wheel_system\n",
      "135              4WD   19.055700  wheel_system\n",
      "136              RWD    6.612245  wheel_system\n",
      "137              4X2    3.818014  wheel_system\n",
      "\n",
      "[138 rows x 3 columns]\n"
     ]
    }
   ],
   "source": [
    "categorical_columns = df.select_dtypes(include=['object', 'category']).columns\n",
    "\n",
    "top_categories_dfs = []\n",
    "\n",
    "for col in categorical_columns:\n",
    "    top_categories = df[col].value_counts(normalize=True).nlargest(10).reset_index() \n",
    "    top_categories.columns = ['Category', 'Percentage'] \n",
    "    top_categories['Percentage'] *= 100  \n",
    "    top_categories['Variable'] = col \n",
    "    top_categories_dfs.append(top_categories) \n",
    "\n",
    "final_df = pd.concat(top_categories_dfs, ignore_index=True)\n",
    "\n",
    "print(final_df)"
   ]
  },
  {
   "cell_type": "markdown",
   "metadata": {},
   "source": [
    "The threshold for selecting the most frequent categories is set at 20%. Any category that makes up at least 20% of a variable will be retained, and categories below this threshold will be labeled as 'Other'."
   ]
  },
  {
   "cell_type": "code",
   "execution_count": 176,
   "metadata": {},
   "outputs": [
    {
     "name": "stdout",
     "output_type": "stream",
     "text": [
      "          Category  Percentage   Variable\n",
      "0  SUV / Crossover   46.688763  body_type\n",
      "1            Sedan   27.490052  body_type\n",
      "2     Pickup Truck   13.784563  body_type\n",
      "3        Hatchback    2.879444  body_type\n",
      "4          Minivan    2.868600  body_type\n",
      "5            Coupe    2.491228  body_type\n",
      "6            Wagon    1.932996  body_type\n",
      "7      Convertible    0.957496  body_type\n",
      "8              Van    0.906859  body_type\n",
      "Unique Values:  ['Sedan' 'SUV / Crossover' 'Other']\n"
     ]
    }
   ],
   "source": [
    "## body_type\n",
    "print(final_df.loc[final_df['Variable'] == 'body_type'])\n",
    "top_categories = df['body_type'].value_counts().nlargest(2).index ## the number of the most frequent categories is 2\n",
    "df['body_type'] = df['body_type'].apply(lambda x: x if x in top_categories else 'Other')\n",
    "print('Unique Values: ', df['body_type'].unique())"
   ]
  },
  {
   "cell_type": "code",
   "execution_count": 177,
   "metadata": {},
   "outputs": [
    {
     "name": "stdout",
     "output_type": "stream",
     "text": [
      "        Category  Percentage Variable\n",
      "9        Houston    1.054882     city\n",
      "10   San Antonio    0.694798     city\n",
      "11      Columbus    0.676589     city\n",
      "12  Jacksonville    0.581658     city\n",
      "13      Columbia    0.493683     city\n",
      "14         Tampa    0.470462     city\n",
      "15     Las Vegas    0.453788     city\n",
      "16    Cincinnati    0.446831     city\n",
      "17         Miami    0.416654     city\n",
      "18  Indianapolis    0.413994     city\n"
     ]
    }
   ],
   "source": [
    "## city\n",
    "print(final_df.loc[final_df['Variable'] == 'city'])\n",
    "df = df.drop('city', axis=1) ## since there is no frequent variable"
   ]
  },
  {
   "cell_type": "code",
   "execution_count": 178,
   "metadata": {},
   "outputs": [
    {
     "name": "stdout",
     "output_type": "stream",
     "text": [
      "   Category  Percentage    Variable\n",
      "19    76051    0.203775  dealer_zip\n",
      "20    77074    0.187203  dealer_zip\n",
      "21    33612    0.182395  dealer_zip\n",
      "22    43228    0.180451  dealer_zip\n",
      "23    45249    0.177996  dealer_zip\n",
      "24    32225    0.176871  dealer_zip\n",
      "25    30096    0.160912  dealer_zip\n",
      "26    63011    0.160708  dealer_zip\n",
      "27    46240    0.159276  dealer_zip\n",
      "28    91401    0.150581  dealer_zip\n"
     ]
    }
   ],
   "source": [
    "## dealer_zip\n",
    "print(final_df.loc[final_df['Variable'] == 'dealer_zip'])\n",
    "df = df.drop('dealer_zip', axis=1) ## since there is no frequent category"
   ]
  },
  {
   "cell_type": "code",
   "execution_count": 179,
   "metadata": {},
   "outputs": [
    {
     "name": "stdout",
     "output_type": "stream",
     "text": [
      "                Category  Percentage     Variable\n",
      "29                    I4   49.210577  engine_type\n",
      "30                    V6   27.447803  engine_type\n",
      "31                    V8    9.193699  engine_type\n",
      "32  V8 Flex Fuel Vehicle    2.953506  engine_type\n",
      "33  V6 Flex Fuel Vehicle    2.590763  engine_type\n",
      "34                    H4    2.424633  engine_type\n",
      "35             I4 Hybrid    1.686870  engine_type\n",
      "36                    I6    0.956268  engine_type\n",
      "37                    I3    0.755869  engine_type\n",
      "38          V8 Biodiesel    0.591479  engine_type\n",
      "Unique Values:  ['Other' 'I4' 'V6']\n"
     ]
    }
   ],
   "source": [
    "## engine_type\n",
    "print(final_df.loc[final_df['Variable'] == 'engine_type'])\n",
    "top_categories = df['engine_type'].value_counts().nlargest(2).index  ## the number of the most frequent categories is 2\n",
    "df['engine_type'] = df['engine_type'].apply(lambda x: x if x in top_categories else 'Other')\n",
    "print('Unique Values: ', df['engine_type'].unique())"
   ]
  },
  {
   "cell_type": "code",
   "execution_count": 180,
   "metadata": {},
   "outputs": [
    {
     "name": "stdout",
     "output_type": "stream",
     "text": [
      "                  Category  Percentage   Variable\n",
      "53                Gasoline   90.149967  fuel_type\n",
      "54       Flex Fuel Vehicle    6.074983  fuel_type\n",
      "55                  Hybrid    1.801954  fuel_type\n",
      "56                  Diesel    0.955654  fuel_type\n",
      "57               Biodiesel    0.681295  fuel_type\n",
      "58                Electric    0.334407  fuel_type\n",
      "59  Compressed Natural Gas    0.001432  fuel_type\n",
      "60                 Propane    0.000307  fuel_type\n",
      "Unique Values:  ['Gasoline' 'Other']\n"
     ]
    }
   ],
   "source": [
    "## fuel_type\n",
    "print(final_df.loc[final_df['Variable'] == 'fuel_type'])\n",
    "top_categories = df['fuel_type'].value_counts().nlargest(1).index  ## the number of the most frequent categories is 1\n",
    "df['fuel_type'] = df['fuel_type'].apply(lambda x: x if x in top_categories else 'Other')\n",
    "print('Unique Values: ', df['fuel_type'].unique())"
   ]
  },
  {
   "cell_type": "code",
   "execution_count": 181,
   "metadata": {},
   "outputs": [
    {
     "name": "stdout",
     "output_type": "stream",
     "text": [
      "      Category  Percentage     Variable\n",
      "65  2020-09-02    3.388778  listed_date\n",
      "66  2020-09-03    2.870748  listed_date\n",
      "67  2020-09-05    2.591172  listed_date\n",
      "68  2020-09-04    2.435476  listed_date\n",
      "69  2020-08-29    2.408675  listed_date\n",
      "70  2020-08-28    2.342796  listed_date\n",
      "71  2020-08-26    2.305662  listed_date\n",
      "72  2020-08-27    2.292057  listed_date\n",
      "73  2020-08-30    2.227610  listed_date\n",
      "74  2020-09-06    2.159173  listed_date\n"
     ]
    }
   ],
   "source": [
    "## listed_date\n",
    "print(final_df.loc[final_df['Variable'] == 'listed_date'])\n",
    "df = df.drop('listed_date', axis=1) ## since there is no frequent category"
   ]
  },
  {
   "cell_type": "code",
   "execution_count": 182,
   "metadata": {},
   "outputs": [
    {
     "name": "stdout",
     "output_type": "stream",
     "text": [
      "   Category  Percentage       Variable\n",
      "75    WHITE   21.690451  listing_color\n",
      "76    BLACK   19.788246  listing_color\n",
      "77   SILVER   13.954785  listing_color\n",
      "78     GRAY   12.612654  listing_color\n",
      "79  UNKNOWN   12.490717  listing_color\n",
      "80      RED    8.891924  listing_color\n",
      "81     BLUE    8.235896  listing_color\n",
      "82    BROWN    0.675566  listing_color\n",
      "83    GREEN    0.651220  listing_color\n",
      "84   ORANGE    0.347911  listing_color\n",
      "Unique Values:  ['Other' 'WHITE' 'BLACK']\n"
     ]
    }
   ],
   "source": [
    "## listing_color\n",
    "print(final_df.loc[final_df['Variable'] == 'listing_color'])\n",
    "top_categories = df['listing_color'].value_counts().nlargest(2).index  ## the number of the most frequent categories is 2\n",
    "df['listing_color'] = df['listing_color'].apply(lambda x: x if x in top_categories else 'Other')\n",
    "print('Unique Values: ', df['listing_color'].unique())"
   ]
  },
  {
   "cell_type": "code",
   "execution_count": 183,
   "metadata": {},
   "outputs": [
    {
     "name": "stdout",
     "output_type": "stream",
     "text": [
      "      Category  Percentage   Variable\n",
      "95        Ford   16.179837  make_name\n",
      "96   Chevrolet   12.433840  make_name\n",
      "97      Toyota    8.933661  make_name\n",
      "98      Nissan    7.308475  make_name\n",
      "99       Honda    6.149251  make_name\n",
      "100       Jeep    5.473377  make_name\n",
      "101    Hyundai    3.757966  make_name\n",
      "102        GMC    3.671526  make_name\n",
      "103      Dodge    3.410158  make_name\n",
      "104        Kia    3.362692  make_name\n"
     ]
    }
   ],
   "source": [
    "## make_name\n",
    "print(final_df.loc[final_df['Variable'] == 'make_name'])\n",
    "df = df.drop('make_name', axis=1) ## since there is no frequent category"
   ]
  },
  {
   "cell_type": "code",
   "execution_count": 184,
   "metadata": {},
   "outputs": [
    {
     "name": "stdout",
     "output_type": "stream",
     "text": [
      "           Category  Percentage    Variable\n",
      "105           F-150    3.873050  model_name\n",
      "106  Silverado 1500    2.550049  model_name\n",
      "107          Escape    2.388625  model_name\n",
      "108         Equinox    2.108946  model_name\n",
      "109        Explorer    1.929518  model_name\n",
      "110            1500    1.908956  model_name\n",
      "111           Rogue    1.755818  model_name\n",
      "112           Camry    1.649327  model_name\n",
      "113  Grand Cherokee    1.595724  model_name\n",
      "114          Fusion    1.508874  model_name\n"
     ]
    }
   ],
   "source": [
    "## model_name\n",
    "print(final_df.loc[final_df['Variable'] == 'model_name'])\n",
    "df = df.drop('model_name', axis=1) ## since there is no frequent category"
   ]
  },
  {
   "cell_type": "code",
   "execution_count": 185,
   "metadata": {},
   "outputs": [
    {
     "name": "stdout",
     "output_type": "stream",
     "text": [
      "                              Category  Percentage Variable\n",
      "117                Honda of Fort Myers    0.077848  sp_name\n",
      "118                      ALM Kia South    0.073040  sp_name\n",
      "119                Elder Ford of Tampa    0.073040  sp_name\n",
      "120                        Jordan Ford    0.069562  sp_name\n",
      "121                       Preston Ford    0.066902  sp_name\n",
      "122  Bill Luke Chrysler Jeep Dodge Ram    0.065777  sp_name\n",
      "123                     MajorWorld.com    0.061992  sp_name\n",
      "124           Shea Chevrolet Buick GMC    0.061071  sp_name\n",
      "125                  Willis Automotive    0.060355  sp_name\n",
      "126                     Sanderson Ford    0.059537  sp_name\n"
     ]
    }
   ],
   "source": [
    "## sp_name\n",
    "print(final_df.loc[final_df['Variable'] == 'sp_name'])\n",
    "df = df.drop('sp_name', axis=1) ## since there is no frequent category"
   ]
  },
  {
   "cell_type": "code",
   "execution_count": 186,
   "metadata": {},
   "outputs": [
    {
     "name": "stdout",
     "output_type": "stream",
     "text": [
      "        Category  Percentage      Variable\n",
      "129            A   83.386630  transmission\n",
      "130          CVT   14.420746  transmission\n",
      "131            M    1.739962  transmission\n",
      "132  Dual Clutch    0.452662  transmission\n",
      "Unique Values:  ['Other' 'A']\n"
     ]
    }
   ],
   "source": [
    "## transmission\n",
    "print(final_df.loc[final_df['Variable'] == 'transmission'])\n",
    "top_categories = df['transmission'].value_counts().nlargest(1).index ## the number of the most frequent categories is 1\n",
    "df['transmission'] = df['transmission'].apply(lambda x: x if x in top_categories else 'Other')\n",
    "print('Unique Values: ', df['transmission'].unique())"
   ]
  },
  {
   "cell_type": "code",
   "execution_count": 187,
   "metadata": {},
   "outputs": [
    {
     "name": "stdout",
     "output_type": "stream",
     "text": [
      "    Category  Percentage      Variable\n",
      "133      FWD   45.182855  wheel_system\n",
      "134      AWD   25.331185  wheel_system\n",
      "135      4WD   19.055700  wheel_system\n",
      "136      RWD    6.612245  wheel_system\n",
      "137      4X2    3.818014  wheel_system\n",
      "Unique Values:  ['AWD' 'Other' 'FWD']\n"
     ]
    }
   ],
   "source": [
    "## wheel_system\n",
    "print(final_df.loc[final_df['Variable'] == 'wheel_system'])\n",
    "top_categories = df['wheel_system'].value_counts().nlargest(2).index ## the number of the most frequent categories is 1\n",
    "df['wheel_system'] = df['wheel_system'].apply(lambda x: x if x in top_categories else 'Other')\n",
    "print('Unique Values: ', df['wheel_system'].unique())"
   ]
  },
  {
   "cell_type": "code",
   "execution_count": 188,
   "metadata": {},
   "outputs": [
    {
     "name": "stdout",
     "output_type": "stream",
     "text": [
      "     Category  Percentage        Variable\n",
      "43       Ford   16.291954  franchise_make\n",
      "44  Chevrolet   15.036673  franchise_make\n",
      "45       Jeep    8.531738  franchise_make\n",
      "46     Toyota    8.475986  franchise_make\n",
      "47      Honda    6.497877  franchise_make\n",
      "48     Nissan    5.418546  franchise_make\n",
      "49      Buick    3.577413  franchise_make\n",
      "50        Kia    3.464171  franchise_make\n",
      "51    Hyundai    3.276252  franchise_make\n",
      "52     Subaru    2.831876  franchise_make\n"
     ]
    }
   ],
   "source": [
    "## franchise_make\n",
    "print(final_df.loc[final_df['Variable'] == 'franchise_make'])\n",
    "df = df.drop('franchise_make', axis=1)"
   ]
  },
  {
   "cell_type": "markdown",
   "metadata": {},
   "source": [
    "'major_options' consists of a list of specific features, such as 'Steel Wheels', 'Bluetooth', 'Backup Camera'. Initially, the five most frequent features are identified, and new columns are created for each of these top features."
   ]
  },
  {
   "cell_type": "code",
   "execution_count": 189,
   "metadata": {},
   "outputs": [
    {
     "data": {
      "text/html": [
       "<div>\n",
       "<style scoped>\n",
       "    .dataframe tbody tr th:only-of-type {\n",
       "        vertical-align: middle;\n",
       "    }\n",
       "\n",
       "    .dataframe tbody tr th {\n",
       "        vertical-align: top;\n",
       "    }\n",
       "\n",
       "    .dataframe thead th {\n",
       "        text-align: right;\n",
       "    }\n",
       "</style>\n",
       "<table border=\"1\" class=\"dataframe\">\n",
       "  <thead>\n",
       "    <tr style=\"text-align: right;\">\n",
       "      <th></th>\n",
       "      <th>Option</th>\n",
       "      <th>Count</th>\n",
       "      <th>Percentage</th>\n",
       "    </tr>\n",
       "  </thead>\n",
       "  <tbody>\n",
       "    <tr>\n",
       "      <th>2</th>\n",
       "      <td>Backup Camera</td>\n",
       "      <td>815432</td>\n",
       "      <td>12.871205</td>\n",
       "    </tr>\n",
       "    <tr>\n",
       "      <th>1</th>\n",
       "      <td>Bluetooth</td>\n",
       "      <td>769155</td>\n",
       "      <td>12.140744</td>\n",
       "    </tr>\n",
       "    <tr>\n",
       "      <th>0</th>\n",
       "      <td>Alloy Wheels</td>\n",
       "      <td>722379</td>\n",
       "      <td>11.402407</td>\n",
       "    </tr>\n",
       "    <tr>\n",
       "      <th>3</th>\n",
       "      <td>Heated Seats</td>\n",
       "      <td>480406</td>\n",
       "      <td>7.582979</td>\n",
       "    </tr>\n",
       "    <tr>\n",
       "      <th>6</th>\n",
       "      <td>Navigation System</td>\n",
       "      <td>417319</td>\n",
       "      <td>6.587181</td>\n",
       "    </tr>\n",
       "    <tr>\n",
       "      <th>...</th>\n",
       "      <td>...</td>\n",
       "      <td>...</td>\n",
       "      <td>...</td>\n",
       "    </tr>\n",
       "    <tr>\n",
       "      <th>138</th>\n",
       "      <td>Preferred Premium Accessory Package</td>\n",
       "      <td>7</td>\n",
       "      <td>0.000110</td>\n",
       "    </tr>\n",
       "    <tr>\n",
       "      <th>139</th>\n",
       "      <td>Luxury Sound Insulation Package</td>\n",
       "      <td>5</td>\n",
       "      <td>0.000079</td>\n",
       "    </tr>\n",
       "    <tr>\n",
       "      <th>134</th>\n",
       "      <td>Appearance and Protection Package</td>\n",
       "      <td>3</td>\n",
       "      <td>0.000047</td>\n",
       "    </tr>\n",
       "    <tr>\n",
       "      <th>141</th>\n",
       "      <td>Grand Tour Package</td>\n",
       "      <td>3</td>\n",
       "      <td>0.000047</td>\n",
       "    </tr>\n",
       "    <tr>\n",
       "      <th>140</th>\n",
       "      <td>Journey Package</td>\n",
       "      <td>1</td>\n",
       "      <td>0.000016</td>\n",
       "    </tr>\n",
       "  </tbody>\n",
       "</table>\n",
       "<p>143 rows × 3 columns</p>\n",
       "</div>"
      ],
      "text/plain": [
       "                                  Option   Count  Percentage\n",
       "2                          Backup Camera  815432   12.871205\n",
       "1                              Bluetooth  769155   12.140744\n",
       "0                           Alloy Wheels  722379   11.402407\n",
       "3                           Heated Seats  480406    7.582979\n",
       "6                      Navigation System  417319    6.587181\n",
       "..                                   ...     ...         ...\n",
       "138  Preferred Premium Accessory Package       7    0.000110\n",
       "139      Luxury Sound Insulation Package       5    0.000079\n",
       "134    Appearance and Protection Package       3    0.000047\n",
       "141                   Grand Tour Package       3    0.000047\n",
       "140                      Journey Package       1    0.000016\n",
       "\n",
       "[143 rows x 3 columns]"
      ]
     },
     "execution_count": 189,
     "metadata": {},
     "output_type": "execute_result"
    }
   ],
   "source": [
    "options_counter = Counter()\n",
    "\n",
    "for options_string in df['major_options']:\n",
    "   \n",
    "    options_list = ast.literal_eval(options_string)\n",
    "    \n",
    "    options_counter.update(options_list)\n",
    "\n",
    "options_count_df = pd.DataFrame(list(options_counter.items()), columns=['Option', 'Count'])\n",
    "\n",
    "total_options_count = sum(options_counter.values())\n",
    "\n",
    "options_count_df['Percentage'] = options_count_df['Count'].apply(lambda x: (x / total_options_count) * 100)\n",
    "\n",
    "options_count_df.sort_values(by='Percentage', ascending=False) ## there are 144 major options"
   ]
  },
  {
   "cell_type": "code",
   "execution_count": 190,
   "metadata": {},
   "outputs": [],
   "source": [
    "df['Bluetooth'] = df['major_options'].apply(lambda options: 1 if 'Bluetooth' in options else 0)\n",
    "df['Backup_Camera'] = df['major_options'].apply(lambda options: 1 if 'Backup Camera' in options else 0)\n",
    "df['Alloy_Wheels'] = df['major_options'].apply(lambda options: 1 if 'Alloy Wheels' in options else 0)\n",
    "df['Heated_Seats'] = df['major_options'].apply(lambda options: 1 if 'Heated Seats' in options else 0)\n",
    "df['Navigation_System'] = df['major_options'].apply(lambda options: 1 if 'Navigation System' in options else 0)"
   ]
  },
  {
   "cell_type": "code",
   "execution_count": 191,
   "metadata": {},
   "outputs": [],
   "source": [
    "df = df.drop('major_options', axis=1) ## removed"
   ]
  },
  {
   "cell_type": "code",
   "execution_count": 192,
   "metadata": {},
   "outputs": [
    {
     "name": "stdout",
     "output_type": "stream",
     "text": [
      "Categorical columns: Index(['body_type', 'engine_type', 'fleet', 'frame_damaged', 'fuel_type',\n",
      "       'has_accidents', 'isCab', 'listing_color', 'salvage', 'theft_title',\n",
      "       'transmission', 'wheel_system'],\n",
      "      dtype='object')\n",
      "         Variable  Unique_Count\n",
      "0       body_type             3\n",
      "1     engine_type             3\n",
      "7   listing_color             3\n",
      "11   wheel_system             3\n",
      "2           fleet             2\n",
      "3   frame_damaged             2\n",
      "4       fuel_type             2\n",
      "5   has_accidents             2\n",
      "6           isCab             2\n",
      "8         salvage             2\n",
      "9     theft_title             2\n",
      "10   transmission             2\n"
     ]
    }
   ],
   "source": [
    "categorical_columns = df.select_dtypes(include=['object', 'category']).columns\n",
    "print('Categorical columns:', categorical_columns)\n",
    "unique_values = {col: df[col].nunique() for col in categorical_columns}\n",
    "\n",
    "unique_values = pd.DataFrame(list(unique_values.items()), columns=['Variable', 'Unique_Count'])\n",
    "print(unique_values.sort_values(by = 'Unique_Count', ascending=False))"
   ]
  },
  {
   "cell_type": "code",
   "execution_count": 193,
   "metadata": {},
   "outputs": [
    {
     "data": {
      "text/html": [
       "<div>\n",
       "<style scoped>\n",
       "    .dataframe tbody tr th:only-of-type {\n",
       "        vertical-align: middle;\n",
       "    }\n",
       "\n",
       "    .dataframe tbody tr th {\n",
       "        vertical-align: top;\n",
       "    }\n",
       "\n",
       "    .dataframe thead th {\n",
       "        text-align: right;\n",
       "    }\n",
       "</style>\n",
       "<table border=\"1\" class=\"dataframe\">\n",
       "  <thead>\n",
       "    <tr style=\"text-align: right;\">\n",
       "      <th></th>\n",
       "      <th>body_type</th>\n",
       "      <th>engine_type</th>\n",
       "      <th>fleet</th>\n",
       "      <th>frame_damaged</th>\n",
       "      <th>fuel_type</th>\n",
       "      <th>has_accidents</th>\n",
       "      <th>isCab</th>\n",
       "      <th>listing_color</th>\n",
       "      <th>salvage</th>\n",
       "      <th>theft_title</th>\n",
       "      <th>transmission</th>\n",
       "      <th>wheel_system</th>\n",
       "    </tr>\n",
       "  </thead>\n",
       "  <tbody>\n",
       "    <tr>\n",
       "      <th>2</th>\n",
       "      <td>Sedan</td>\n",
       "      <td>Other</td>\n",
       "      <td>False</td>\n",
       "      <td>False</td>\n",
       "      <td>Gasoline</td>\n",
       "      <td>False</td>\n",
       "      <td>False</td>\n",
       "      <td>Other</td>\n",
       "      <td>False</td>\n",
       "      <td>False</td>\n",
       "      <td>Other</td>\n",
       "      <td>AWD</td>\n",
       "    </tr>\n",
       "    <tr>\n",
       "      <th>5</th>\n",
       "      <td>SUV / Crossover</td>\n",
       "      <td>I4</td>\n",
       "      <td>False</td>\n",
       "      <td>False</td>\n",
       "      <td>Gasoline</td>\n",
       "      <td>False</td>\n",
       "      <td>False</td>\n",
       "      <td>Other</td>\n",
       "      <td>False</td>\n",
       "      <td>False</td>\n",
       "      <td>A</td>\n",
       "      <td>AWD</td>\n",
       "    </tr>\n",
       "    <tr>\n",
       "      <th>9</th>\n",
       "      <td>SUV / Crossover</td>\n",
       "      <td>I4</td>\n",
       "      <td>False</td>\n",
       "      <td>False</td>\n",
       "      <td>Gasoline</td>\n",
       "      <td>False</td>\n",
       "      <td>False</td>\n",
       "      <td>WHITE</td>\n",
       "      <td>False</td>\n",
       "      <td>False</td>\n",
       "      <td>A</td>\n",
       "      <td>AWD</td>\n",
       "    </tr>\n",
       "    <tr>\n",
       "      <th>10</th>\n",
       "      <td>Other</td>\n",
       "      <td>I4</td>\n",
       "      <td>False</td>\n",
       "      <td>False</td>\n",
       "      <td>Gasoline</td>\n",
       "      <td>False</td>\n",
       "      <td>False</td>\n",
       "      <td>Other</td>\n",
       "      <td>False</td>\n",
       "      <td>False</td>\n",
       "      <td>A</td>\n",
       "      <td>Other</td>\n",
       "    </tr>\n",
       "    <tr>\n",
       "      <th>12</th>\n",
       "      <td>Sedan</td>\n",
       "      <td>Other</td>\n",
       "      <td>False</td>\n",
       "      <td>False</td>\n",
       "      <td>Gasoline</td>\n",
       "      <td>False</td>\n",
       "      <td>False</td>\n",
       "      <td>Other</td>\n",
       "      <td>False</td>\n",
       "      <td>False</td>\n",
       "      <td>A</td>\n",
       "      <td>AWD</td>\n",
       "    </tr>\n",
       "  </tbody>\n",
       "</table>\n",
       "</div>"
      ],
      "text/plain": [
       "          body_type engine_type  fleet frame_damaged fuel_type has_accidents  \\\n",
       "2             Sedan       Other  False         False  Gasoline         False   \n",
       "5   SUV / Crossover          I4  False         False  Gasoline         False   \n",
       "9   SUV / Crossover          I4  False         False  Gasoline         False   \n",
       "10            Other          I4  False         False  Gasoline         False   \n",
       "12            Sedan       Other  False         False  Gasoline         False   \n",
       "\n",
       "    isCab listing_color salvage theft_title transmission wheel_system  \n",
       "2   False         Other   False       False        Other          AWD  \n",
       "5   False         Other   False       False            A          AWD  \n",
       "9   False         WHITE   False       False            A          AWD  \n",
       "10  False         Other   False       False            A        Other  \n",
       "12  False         Other   False       False            A          AWD  "
      ]
     },
     "execution_count": 193,
     "metadata": {},
     "output_type": "execute_result"
    }
   ],
   "source": [
    "df[categorical_columns].head(5)"
   ]
  },
  {
   "cell_type": "markdown",
   "metadata": {},
   "source": [
    "The features 'fuel_type' ve 'transmission' have 2 different values. If the value is other, set 0 otherwise 1"
   ]
  },
  {
   "cell_type": "code",
   "execution_count": 194,
   "metadata": {},
   "outputs": [],
   "source": [
    "df['fuel_type'] = df['fuel_type'].map({'Other': 0, 'Gasoline': 1})\n",
    "df['transmission'] = df['transmission'].map({'Other': 0, 'A': 1})"
   ]
  },
  {
   "cell_type": "markdown",
   "metadata": {},
   "source": [
    "The features 'isCab', 'salvage', 'theft_title', 'has_accidents', 'frame_damaged' and 'fleet' contain true/false values and these columns are converted into 1/0."
   ]
  },
  {
   "cell_type": "code",
   "execution_count": 195,
   "metadata": {},
   "outputs": [],
   "source": [
    "columns_to_convert = ['isCab', 'salvage', 'theft_title', 'has_accidents', 'frame_damaged', 'fleet']\n",
    "\n",
    "df[columns_to_convert] = df[columns_to_convert].astype(int)"
   ]
  },
  {
   "cell_type": "markdown",
   "metadata": {},
   "source": [
    "There are still some categorical columns."
   ]
  },
  {
   "cell_type": "code",
   "execution_count": 196,
   "metadata": {},
   "outputs": [
    {
     "name": "stdout",
     "output_type": "stream",
     "text": [
      "Categorical columns: Index(['body_type', 'engine_type', 'listing_color', 'wheel_system'], dtype='object')\n"
     ]
    }
   ],
   "source": [
    "categorical_columns_last = df.select_dtypes(include=['object', 'category']).columns\n",
    "print('Categorical columns:', categorical_columns_last)"
   ]
  },
  {
   "cell_type": "markdown",
   "metadata": {},
   "source": [
    "One-hot encoding is applied to the categorical columns in the dataset to convert categorical data into a numerical format."
   ]
  },
  {
   "cell_type": "code",
   "execution_count": 197,
   "metadata": {},
   "outputs": [],
   "source": [
    "df = pd.get_dummies(df, columns=categorical_columns_last)\n",
    "df = df.astype(int)"
   ]
  },
  {
   "cell_type": "markdown",
   "metadata": {},
   "source": [
    "## Normalization"
   ]
  },
  {
   "cell_type": "markdown",
   "metadata": {},
   "source": [
    "First, the features and the target variable are defined."
   ]
  },
  {
   "cell_type": "code",
   "execution_count": 230,
   "metadata": {},
   "outputs": [],
   "source": [
    "X = df.drop('price', axis=1) # features\n",
    "y = df['price'] # label or target variable\n"
   ]
  },
  {
   "cell_type": "markdown",
   "metadata": {},
   "source": [
    "Before feature selection, the distributions of target variable and features are analyzed to check if needed normalization of the data set."
   ]
  },
  {
   "cell_type": "code",
   "execution_count": 206,
   "metadata": {},
   "outputs": [
    {
     "name": "stdout",
     "output_type": "stream",
     "text": [
      "min     2.490000e+02\n",
      "mean    2.586880e+04\n",
      "max     3.195000e+06\n",
      "Name: price, dtype: float64\n"
     ]
    }
   ],
   "source": [
    "print(y.agg(['min', 'mean', 'max']))"
   ]
  },
  {
   "cell_type": "markdown",
   "metadata": {},
   "source": [
    "Based on the statistics of the target variable 'price', which shows a minimum value of 200, a mean of 23,226.65, and a maximum of 3,195,000, scaling is necessary to normalize the data distribution. This step will help reduce the influence of extreme values, ensuring that the machine learning models can operate more efficiently and effectively, without being skewed by the wide range of values in the target variable."
   ]
  },
  {
   "cell_type": "code",
   "execution_count": 207,
   "metadata": {},
   "outputs": [
    {
     "name": "stdout",
     "output_type": "stream",
     "text": [
      "      back_legroom  city_fuel_economy  daysonmarket  engine_displacement  \\\n",
      "min       0.000000         -12.000000      0.000000           700.000000   \n",
      "mean     37.314842          21.455286     49.493916          2999.578203   \n",
      "max      59.000000         127.000000   3573.000000          8400.000000   \n",
      "\n",
      "         fleet  frame_damaged  franchise_dealer  front_legroom  \\\n",
      "min   0.000000       0.000000               1.0        0.00000   \n",
      "mean  0.186689       0.002121               1.0       41.92513   \n",
      "max   1.000000       1.000000               1.0       67.00000   \n",
      "\n",
      "      fuel_tank_volume  fuel_type  ...  body_type_Sedan  engine_type_I4  \\\n",
      "min           1.000000     0.0000  ...         0.000000        0.000000   \n",
      "mean         18.340053     0.9015  ...         0.274901        0.492106   \n",
      "max          64.000000     1.0000  ...         1.000000        1.000000   \n",
      "\n",
      "      engine_type_Other  engine_type_V6  listing_color_BLACK  \\\n",
      "min            0.000000        0.000000             0.000000   \n",
      "mean           0.233416        0.274478             0.197882   \n",
      "max            1.000000        1.000000             1.000000   \n",
      "\n",
      "      listing_color_Other  listing_color_WHITE  wheel_system_AWD  \\\n",
      "min              0.000000             0.000000          0.000000   \n",
      "mean             0.585213             0.216905          0.253312   \n",
      "max              1.000000             1.000000          1.000000   \n",
      "\n",
      "      wheel_system_FWD  wheel_system_Other  \n",
      "min           0.000000             0.00000  \n",
      "mean          0.451829             0.29486  \n",
      "max           1.000000             1.00000  \n",
      "\n",
      "[3 rows x 49 columns]\n"
     ]
    }
   ],
   "source": [
    "print(X.agg(['min', 'mean', 'max']))"
   ]
  },
  {
   "cell_type": "code",
   "execution_count": 228,
   "metadata": {},
   "outputs": [
    {
     "name": "stdout",
     "output_type": "stream",
     "text": [
      "0             back_legroom\n",
      "1        city_fuel_economy\n",
      "2             daysonmarket\n",
      "3      engine_displacement\n",
      "7            front_legroom\n",
      "8         fuel_tank_volume\n",
      "11                  height\n",
      "12    highway_fuel_economy\n",
      "13              horsepower\n",
      "16                latitude\n",
      "17                  length\n",
      "18               longitude\n",
      "19         maximum_seating\n",
      "20                 mileage\n",
      "21                   price\n",
      "23          savings_amount\n",
      "24           seller_rating\n",
      "27               wheelbase\n",
      "28                   width\n",
      "29                    year\n",
      "30                     RPM\n",
      "31            torque_value\n",
      "32              torque_rpm\n",
      "Name: Variable, dtype: object\n"
     ]
    }
   ],
   "source": [
    "unique_values = {col: df[col].nunique() for col in df.columns}\n",
    "\n",
    "unique_values = pd.DataFrame(list(unique_values.items()), columns=['Variable', 'Unique_Count'])\n",
    "print(unique_values[unique_values['Unique_Count'] > 2]['Variable'])"
   ]
  },
  {
   "cell_type": "markdown",
   "metadata": {},
   "source": [
    "Given the substantial range in the statistics of the features, such as 'daysonmarket' which varies from 0 to 3573, and 'engine_displacement' ranging from 1000 to 8400, normalization is essential. Normalizing these features will scale their values to a common range, typically [0, 1], making it easier for machine learning algorithms to process the data without bias towards larger scale features. "
   ]
  },
  {
   "cell_type": "code",
   "execution_count": 229,
   "metadata": {},
   "outputs": [],
   "source": [
    "scaler = MinMaxScaler()\n",
    "norm_columns = ['back_legroom', 'city_fuel_economy', 'daysonmarket', 'engine_displacement', 'front_legroom', 'fuel_tank_volume', 'height', 'highway_fuel_economy',\n",
    "                'horsepower', 'latitude', 'length', 'longitude', 'maximum_seating', 'mileage', 'savings_amount', 'seller_rating', 'wheelbase', 'width', 'year', 'RPM',\n",
    "                'torque_value', 'torque_rpm', 'price']\n",
    "df[norm_columns] = scaler.fit_transform(df[norm_columns])"
   ]
  },
  {
   "cell_type": "code",
   "execution_count": 232,
   "metadata": {},
   "outputs": [],
   "source": [
    "X = df.drop('price', axis=1) # features\n",
    "y = df['price'] # label or target variable"
   ]
  },
  {
   "cell_type": "markdown",
   "metadata": {},
   "source": [
    "## Feature Selection"
   ]
  },
  {
   "cell_type": "markdown",
   "metadata": {},
   "source": [
    "There are 49 features and I need to perform dimensionality reduction/feature selection to increase model training efficiency and potentially enhance model accuracy by eliminating irrelevant features that do not contribute significantly to the predictive power of the model. This process will also help in simplifying the model, making it faster to train and easier to interpret. For the feature selection process, the SelectKBest method is employed."
   ]
  },
  {
   "cell_type": "code",
   "execution_count": 233,
   "metadata": {},
   "outputs": [
    {
     "name": "stdout",
     "output_type": "stream",
     "text": [
      "               Feature          Score\n",
      "2           horsepower  499048.063586\n",
      "8         torque_value  171765.763974\n",
      "1     fuel_tank_volume  166502.068791\n",
      "4              mileage  161524.595421\n",
      "9     wheel_system_FWD  154705.234057\n",
      "0  engine_displacement  151355.017534\n",
      "6                width  145109.060237\n",
      "7                 year  141083.235022\n",
      "5            wheelbase  126213.501355\n",
      "3               length  119934.685950\n"
     ]
    }
   ],
   "source": [
    "selector = SelectKBest(score_func=f_regression, k=10)\n",
    "\n",
    "X_new = selector.fit_transform(X, y)\n",
    "\n",
    "selected_features = X.columns[selector.get_support()]\n",
    "selected_scores = selector.scores_[selector.get_support()]\n",
    "\n",
    "# create dataframe for selected features\n",
    "features_scores_df = pd.DataFrame({'Feature': selected_features, 'Score': selected_scores})\n",
    "\n",
    "print(features_scores_df.sort_values(by=\"Score\", ascending=False))"
   ]
  },
  {
   "cell_type": "markdown",
   "metadata": {},
   "source": [
    "The scaled feature set and the scaled target variable are horizontally concatenated for modeling."
   ]
  },
  {
   "cell_type": "code",
   "execution_count": 234,
   "metadata": {},
   "outputs": [],
   "source": [
    "X_filtered = X[selected_features]\n",
    "y_scaled_series = pd.Series(y, name='price')\n",
    "df_filtered = pd.concat([X_filtered, y_scaled_series], axis=1)"
   ]
  },
  {
   "cell_type": "markdown",
   "metadata": {},
   "source": [
    "Save the cleaned and preprocessed dataset to a CSV file."
   ]
  },
  {
   "cell_type": "code",
   "execution_count": 235,
   "metadata": {},
   "outputs": [],
   "source": [
    "df_filtered.to_csv('filtered_used_cars_data.csv', index=False)"
   ]
  }
 ],
 "metadata": {
  "kernelspec": {
   "display_name": "mydashenv",
   "language": "python",
   "name": "python3"
  },
  "language_info": {
   "codemirror_mode": {
    "name": "ipython",
    "version": 3
   },
   "file_extension": ".py",
   "mimetype": "text/x-python",
   "name": "python",
   "nbconvert_exporter": "python",
   "pygments_lexer": "ipython3",
   "version": "3.11.0"
  },
  "orig_nbformat": 4
 },
 "nbformat": 4,
 "nbformat_minor": 2
}
